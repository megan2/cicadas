{
 "cells": [
  {
   "cell_type": "code",
   "execution_count": 1,
   "id": "b728f119",
   "metadata": {},
   "outputs": [],
   "source": [
    "import pandas as pd\n",
    "import numpy as np\n",
    "import matplotlib.pyplot as plt\n",
    "import matplotlib.dates as mdates\n",
    "import datetime as dt\n",
    "import json\n",
    "import re"
   ]
  },
  {
   "cell_type": "code",
   "execution_count": 3,
   "id": "b464942c",
   "metadata": {},
   "outputs": [],
   "source": [
    "#Read in the original csv file\n",
    "NYCrime = pd.read_csv('../data/NY_State_crimes_by_County_Year.csv', low_memory=False)\n",
    "\n",
    "#Data Source: https://data.ny.gov/Public-Safety/Index-Crimes-by-County-and-Agency-Beginning-1990/ca8h-8gjq"
   ]
  },
  {
   "cell_type": "code",
   "execution_count": 4,
   "id": "064572b2",
   "metadata": {},
   "outputs": [
    {
     "data": {
      "text/plain": [
       "<bound method DataFrame.info of        County                      Agency  Year  Months Reported  Index Total  \\\n",
       "0      Albany              Albany City PD  2019             12.0       3661.0   \n",
       "1      Albany       Albany County Park PD  2019             12.0          2.0   \n",
       "2      Albany       Albany County Sheriff  2019             12.0        148.0   \n",
       "3      Albany  Albany County State Police  2019             12.0        150.0   \n",
       "4      Albany              Altamont Vg PD  2019             12.0          5.0   \n",
       "...       ...                         ...   ...              ...          ...   \n",
       "20591   Yates                County Total  1990              NaN        507.0   \n",
       "20592   Yates              Penn Yan Vg PD  1990              NaN        142.0   \n",
       "20593   Yates        Yates County Park PD  1990              NaN          1.0   \n",
       "20594   Yates        Yates County Sheriff  1990              NaN        318.0   \n",
       "20595   Yates   Yates County State Police  1990              NaN         46.0   \n",
       "\n",
       "       Violent Total  Murder  Rape  Robbery  Aggravated Assault  \\\n",
       "0              735.0     4.0  61.0    189.0               481.0   \n",
       "1                1.0     0.0   0.0      0.0                 1.0   \n",
       "2               25.0     1.0   4.0      1.0                19.0   \n",
       "3               30.0     0.0  22.0      3.0                 5.0   \n",
       "4                0.0     0.0   0.0      0.0                 0.0   \n",
       "...              ...     ...   ...      ...                 ...   \n",
       "20591           34.0     0.0   5.0      0.0                29.0   \n",
       "20592            3.0     0.0   1.0      0.0                 2.0   \n",
       "20593            0.0     0.0   0.0      0.0                 0.0   \n",
       "20594           29.0     0.0   4.0      0.0                25.0   \n",
       "20595            2.0     0.0   0.0      0.0                 2.0   \n",
       "\n",
       "       Property Total  Burglary  Larceny  Motor Vehicle Theft  \\\n",
       "0              2926.0     446.0   2321.0                159.0   \n",
       "1                 1.0       0.0      1.0                  0.0   \n",
       "2               123.0      22.0     91.0                 10.0   \n",
       "3               120.0       3.0    116.0                  1.0   \n",
       "4                 5.0       1.0      4.0                  0.0   \n",
       "...               ...       ...      ...                  ...   \n",
       "20591           473.0     104.0    361.0                  8.0   \n",
       "20592           139.0      11.0    123.0                  5.0   \n",
       "20593             1.0       0.0      1.0                  0.0   \n",
       "20594           289.0      84.0    202.0                  3.0   \n",
       "20595            44.0       9.0     35.0                  0.0   \n",
       "\n",
       "                  Region  \n",
       "0      Non-New York City  \n",
       "1      Non-New York City  \n",
       "2      Non-New York City  \n",
       "3      Non-New York City  \n",
       "4      Non-New York City  \n",
       "...                  ...  \n",
       "20591  Non-New York City  \n",
       "20592  Non-New York City  \n",
       "20593  Non-New York City  \n",
       "20594  Non-New York City  \n",
       "20595  Non-New York City  \n",
       "\n",
       "[20596 rows x 15 columns]>"
      ]
     },
     "execution_count": 4,
     "metadata": {},
     "output_type": "execute_result"
    }
   ],
   "source": [
    "NYCrime.info #20596 rows"
   ]
  },
  {
   "cell_type": "code",
   "execution_count": 25,
   "id": "2955f967",
   "metadata": {},
   "outputs": [],
   "source": [
    "#Trim to relevant (cicada) counties and years\n",
    "\n",
    "#New York counties (Brood V in 2016)\n",
    "NY_counties_2016 = ['Suffolk']\n",
    "BroodVyears=[2013,2014,2015,2016,2017,2018]\n",
    "\n",
    "\n",
    "#New York counties (Brood VII in 2018)\n",
    "NY_counties_2018 = ['Cayuga',\n",
    "'Onondaga',\n",
    "'Livingston']\n",
    "BroodVIIyears=[2014,2015,2016,2017,2018,2019]"
   ]
  },
  {
   "cell_type": "code",
   "execution_count": 26,
   "id": "2fd8a70f",
   "metadata": {},
   "outputs": [],
   "source": [
    "NYCrime2016 = NYCrime[(NYCrime['County'].isin(NY_counties_2016)) & \n",
    "                 (NYCrime['Year'].isin(BroodVyears))]"
   ]
  },
  {
   "cell_type": "code",
   "execution_count": 28,
   "id": "13a1b93b",
   "metadata": {},
   "outputs": [
    {
     "name": "stdout",
     "output_type": "stream",
     "text": [
      "<class 'pandas.core.frame.DataFrame'>\n",
      "Int64Index: 149 entries, 1119 to 4385\n",
      "Data columns (total 15 columns):\n",
      " #   Column               Non-Null Count  Dtype  \n",
      "---  ------               --------------  -----  \n",
      " 0   County               149 non-null    object \n",
      " 1   Agency               149 non-null    object \n",
      " 2   Year                 149 non-null    int64  \n",
      " 3   Months Reported      143 non-null    float64\n",
      " 4   Index Total          149 non-null    float64\n",
      " 5   Violent Total        149 non-null    float64\n",
      " 6   Murder               149 non-null    float64\n",
      " 7   Rape                 149 non-null    float64\n",
      " 8   Robbery              149 non-null    float64\n",
      " 9   Aggravated Assault   149 non-null    float64\n",
      " 10  Property Total       149 non-null    float64\n",
      " 11  Burglary             149 non-null    float64\n",
      " 12  Larceny              149 non-null    float64\n",
      " 13  Motor Vehicle Theft  149 non-null    float64\n",
      " 14  Region               149 non-null    object \n",
      "dtypes: float64(11), int64(1), object(3)\n",
      "memory usage: 18.6+ KB\n"
     ]
    }
   ],
   "source": [
    "NYCrime2016.info() #149 rows"
   ]
  },
  {
   "cell_type": "code",
   "execution_count": 29,
   "id": "e8f170ce",
   "metadata": {},
   "outputs": [],
   "source": [
    "NYCrime2018 = NYCrime[(NYCrime['County'].isin(NY_counties_2018)) & \n",
    "                 (NYCrime['Year'].isin(BroodVIIyears))]"
   ]
  },
  {
   "cell_type": "code",
   "execution_count": 30,
   "id": "133cb8a2",
   "metadata": {},
   "outputs": [
    {
     "name": "stdout",
     "output_type": "stream",
     "text": [
      "<class 'pandas.core.frame.DataFrame'>\n",
      "Int64Index: 228 entries, 48 to 3542\n",
      "Data columns (total 15 columns):\n",
      " #   Column               Non-Null Count  Dtype  \n",
      "---  ------               --------------  -----  \n",
      " 0   County               228 non-null    object \n",
      " 1   Agency               228 non-null    object \n",
      " 2   Year                 228 non-null    int64  \n",
      " 3   Months Reported      210 non-null    float64\n",
      " 4   Index Total          228 non-null    float64\n",
      " 5   Violent Total        228 non-null    float64\n",
      " 6   Murder               228 non-null    float64\n",
      " 7   Rape                 228 non-null    float64\n",
      " 8   Robbery              228 non-null    float64\n",
      " 9   Aggravated Assault   228 non-null    float64\n",
      " 10  Property Total       228 non-null    float64\n",
      " 11  Burglary             228 non-null    float64\n",
      " 12  Larceny              228 non-null    float64\n",
      " 13  Motor Vehicle Theft  228 non-null    float64\n",
      " 14  Region               228 non-null    object \n",
      "dtypes: float64(11), int64(1), object(3)\n",
      "memory usage: 28.5+ KB\n"
     ]
    }
   ],
   "source": [
    "NYCrime2018.info() #228 rows"
   ]
  },
  {
   "cell_type": "code",
   "execution_count": 31,
   "id": "4abc5bb9",
   "metadata": {},
   "outputs": [],
   "source": [
    "##Bring data back together\n",
    "NYCrimetrim = pd.concat([NYCrime2016, NYCrime2018],axis=0)"
   ]
  },
  {
   "cell_type": "code",
   "execution_count": 32,
   "id": "9655d2bf",
   "metadata": {},
   "outputs": [
    {
     "data": {
      "text/plain": [
       "<bound method DataFrame.info of         County                               Agency  Year  Months Reported  \\\n",
       "1119   Suffolk                     Amityville Vg PD  2018             12.0   \n",
       "1120   Suffolk                      Asharoken Vg PD  2018             12.0   \n",
       "1121   Suffolk                         County Total  2018              NaN   \n",
       "1122   Suffolk                 East Hampton Town PD  2018             12.0   \n",
       "1123   Suffolk                   East Hampton Vg PD  2018             12.0   \n",
       "...        ...                                  ...   ...              ...   \n",
       "3538  Onondaga                    Skaneateles Vg PD  2014             12.0   \n",
       "3539  Onondaga                         Solvay Vg PD  2014             12.0   \n",
       "3540  Onondaga  SUNY Police - Environmental Science  2014             12.0   \n",
       "3541  Onondaga        SUNY Police - Upstate Medical  2014             12.0   \n",
       "3542  Onondaga                     Syracuse City PD  2014             12.0   \n",
       "\n",
       "      Index Total  Violent Total  Murder   Rape  Robbery  Aggravated Assault  \\\n",
       "1119        107.0            8.0     0.0    0.0      2.0                 6.0   \n",
       "1120          2.0            0.0     0.0    0.0      0.0                 0.0   \n",
       "1121      18948.0         1510.0    21.0  207.0    423.0               859.0   \n",
       "1122        189.0           11.0     0.0    2.0      1.0                 8.0   \n",
       "1123         36.0            1.0     0.0    0.0      0.0                 1.0   \n",
       "...           ...            ...     ...    ...      ...                 ...   \n",
       "3538          7.0            1.0     0.0    0.0      0.0                 1.0   \n",
       "3539        162.0           19.0     0.0    0.0      6.0                13.0   \n",
       "3540         12.0            2.0     0.0    0.0      0.0                 2.0   \n",
       "3541         87.0            3.0     0.0    1.0      1.0                 1.0   \n",
       "3542       6898.0         1143.0    20.0   49.0    406.0               668.0   \n",
       "\n",
       "      Property Total  Burglary  Larceny  Motor Vehicle Theft  \\\n",
       "1119            99.0       6.0     84.0                  9.0   \n",
       "1120             2.0       1.0      1.0                  0.0   \n",
       "1121         17438.0    1216.0  15259.0                963.0   \n",
       "1122           178.0      17.0    160.0                  1.0   \n",
       "1123            35.0       2.0     31.0                  2.0   \n",
       "...              ...       ...      ...                  ...   \n",
       "3538             6.0       0.0      6.0                  0.0   \n",
       "3539           143.0      26.0    109.0                  8.0   \n",
       "3540            10.0       1.0      9.0                  0.0   \n",
       "3541            84.0       1.0     81.0                  2.0   \n",
       "3542          5755.0    1404.0   3986.0                365.0   \n",
       "\n",
       "                 Region  \n",
       "1119  Non-New York City  \n",
       "1120  Non-New York City  \n",
       "1121  Non-New York City  \n",
       "1122  Non-New York City  \n",
       "1123  Non-New York City  \n",
       "...                 ...  \n",
       "3538  Non-New York City  \n",
       "3539  Non-New York City  \n",
       "3540  Non-New York City  \n",
       "3541  Non-New York City  \n",
       "3542  Non-New York City  \n",
       "\n",
       "[377 rows x 15 columns]>"
      ]
     },
     "execution_count": 32,
     "metadata": {},
     "output_type": "execute_result"
    }
   ],
   "source": [
    "NYCrimetrim.info #377 rows, perfect"
   ]
  },
  {
   "cell_type": "code",
   "execution_count": 33,
   "id": "002b3814",
   "metadata": {},
   "outputs": [],
   "source": [
    "#Export!\n",
    "NYCrimetrim.to_csv('NYCrime.csv', index = False, header=True)"
   ]
  }
 ],
 "metadata": {
  "kernelspec": {
   "display_name": "Python 3",
   "language": "python",
   "name": "python3"
  },
  "language_info": {
   "codemirror_mode": {
    "name": "ipython",
    "version": 3
   },
   "file_extension": ".py",
   "mimetype": "text/x-python",
   "name": "python",
   "nbconvert_exporter": "python",
   "pygments_lexer": "ipython3",
   "version": "3.8.8"
  }
 },
 "nbformat": 4,
 "nbformat_minor": 5
}
