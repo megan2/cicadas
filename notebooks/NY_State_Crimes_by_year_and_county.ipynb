{
 "cells": [
  {
   "cell_type": "code",
   "execution_count": 1,
   "id": "981e6d60",
   "metadata": {},
   "outputs": [],
   "source": [
    "import pandas as pd\n",
    "import numpy as np\n",
    "import matplotlib.pyplot as plt\n",
    "import matplotlib.dates as mdates\n",
    "import datetime as dt\n",
    "import json\n",
    "import re"
   ]
  },
  {
   "cell_type": "code",
   "execution_count": 3,
   "id": "73d12c1c",
   "metadata": {},
   "outputs": [],
   "source": [
    "#Read in the original csv file\n",
    "NYCrime = pd.read_csv('../data/NY_State_crimes_by_County_Year.csv', low_memory=False)"
   ]
  },
  {
   "cell_type": "code",
   "execution_count": 4,
   "id": "4e9af663",
   "metadata": {},
   "outputs": [
    {
     "data": {
      "text/plain": [
       "<bound method DataFrame.info of        County                      Agency  Year  Months Reported  Index Total  \\\n",
       "0      Albany              Albany City PD  2019             12.0       3661.0   \n",
       "1      Albany       Albany County Park PD  2019             12.0          2.0   \n",
       "2      Albany       Albany County Sheriff  2019             12.0        148.0   \n",
       "3      Albany  Albany County State Police  2019             12.0        150.0   \n",
       "4      Albany              Altamont Vg PD  2019             12.0          5.0   \n",
       "...       ...                         ...   ...              ...          ...   \n",
       "20591   Yates                County Total  1990              NaN        507.0   \n",
       "20592   Yates              Penn Yan Vg PD  1990              NaN        142.0   \n",
       "20593   Yates        Yates County Park PD  1990              NaN          1.0   \n",
       "20594   Yates        Yates County Sheriff  1990              NaN        318.0   \n",
       "20595   Yates   Yates County State Police  1990              NaN         46.0   \n",
       "\n",
       "       Violent Total  Murder  Rape  Robbery  Aggravated Assault  \\\n",
       "0              735.0     4.0  61.0    189.0               481.0   \n",
       "1                1.0     0.0   0.0      0.0                 1.0   \n",
       "2               25.0     1.0   4.0      1.0                19.0   \n",
       "3               30.0     0.0  22.0      3.0                 5.0   \n",
       "4                0.0     0.0   0.0      0.0                 0.0   \n",
       "...              ...     ...   ...      ...                 ...   \n",
       "20591           34.0     0.0   5.0      0.0                29.0   \n",
       "20592            3.0     0.0   1.0      0.0                 2.0   \n",
       "20593            0.0     0.0   0.0      0.0                 0.0   \n",
       "20594           29.0     0.0   4.0      0.0                25.0   \n",
       "20595            2.0     0.0   0.0      0.0                 2.0   \n",
       "\n",
       "       Property Total  Burglary  Larceny  Motor Vehicle Theft  \\\n",
       "0              2926.0     446.0   2321.0                159.0   \n",
       "1                 1.0       0.0      1.0                  0.0   \n",
       "2               123.0      22.0     91.0                 10.0   \n",
       "3               120.0       3.0    116.0                  1.0   \n",
       "4                 5.0       1.0      4.0                  0.0   \n",
       "...               ...       ...      ...                  ...   \n",
       "20591           473.0     104.0    361.0                  8.0   \n",
       "20592           139.0      11.0    123.0                  5.0   \n",
       "20593             1.0       0.0      1.0                  0.0   \n",
       "20594           289.0      84.0    202.0                  3.0   \n",
       "20595            44.0       9.0     35.0                  0.0   \n",
       "\n",
       "                  Region  \n",
       "0      Non-New York City  \n",
       "1      Non-New York City  \n",
       "2      Non-New York City  \n",
       "3      Non-New York City  \n",
       "4      Non-New York City  \n",
       "...                  ...  \n",
       "20591  Non-New York City  \n",
       "20592  Non-New York City  \n",
       "20593  Non-New York City  \n",
       "20594  Non-New York City  \n",
       "20595  Non-New York City  \n",
       "\n",
       "[20596 rows x 15 columns]>"
      ]
     },
     "execution_count": 4,
     "metadata": {},
     "output_type": "execute_result"
    }
   ],
   "source": [
    "NYCrime.info #20596 rows"
   ]
  },
  {
   "cell_type": "code",
   "execution_count": 6,
   "id": "32003e91",
   "metadata": {},
   "outputs": [],
   "source": [
    "#Trim to relevant (cicada) counties and years\n",
    "\n",
    "#New York counties (Brood V in 2016)\n",
    "NY_counties_2016 = ['Suffolk']\n",
    "BroodVyears=[2015,2016,2017]\n",
    "\n",
    "\n",
    "#New York counties (Brood VII in 2018)\n",
    "NY_counties_2018 = ['Cayuga',\n",
    "'Onondaga',\n",
    "'Livingston']\n",
    "BroodVIIyears=[2017,2018,2019]"
   ]
  },
  {
   "cell_type": "code",
   "execution_count": 7,
   "id": "ed87e084",
   "metadata": {},
   "outputs": [],
   "source": [
    "NYCrime2016 = NYCrime[(NYCrime['County'].isin(NY_counties_2016)) & \n",
    "                 (NYCrime['Year'].isin(BroodVyears))]"
   ]
  },
  {
   "cell_type": "code",
   "execution_count": 10,
   "id": "d1d48dfe",
   "metadata": {},
   "outputs": [
    {
     "name": "stdout",
     "output_type": "stream",
     "text": [
      "<class 'pandas.core.frame.DataFrame'>\n",
      "Int64Index: 74 entries, 1761 to 3076\n",
      "Data columns (total 15 columns):\n",
      " #   Column               Non-Null Count  Dtype  \n",
      "---  ------               --------------  -----  \n",
      " 0   County               74 non-null     object \n",
      " 1   Agency               74 non-null     object \n",
      " 2   Year                 74 non-null     int64  \n",
      " 3   Months Reported      71 non-null     float64\n",
      " 4   Index Total          74 non-null     float64\n",
      " 5   Violent Total        74 non-null     float64\n",
      " 6   Murder               74 non-null     float64\n",
      " 7   Rape                 74 non-null     float64\n",
      " 8   Robbery              74 non-null     float64\n",
      " 9   Aggravated Assault   74 non-null     float64\n",
      " 10  Property Total       74 non-null     float64\n",
      " 11  Burglary             74 non-null     float64\n",
      " 12  Larceny              74 non-null     float64\n",
      " 13  Motor Vehicle Theft  74 non-null     float64\n",
      " 14  Region               74 non-null     object \n",
      "dtypes: float64(11), int64(1), object(3)\n",
      "memory usage: 9.2+ KB\n"
     ]
    }
   ],
   "source": [
    "NYCrime2016.info() #74 rows"
   ]
  },
  {
   "cell_type": "code",
   "execution_count": 11,
   "id": "e2c26058",
   "metadata": {},
   "outputs": [],
   "source": [
    "NYCrime2018 = NYCrime[(NYCrime['County'].isin(NY_counties_2018)) & \n",
    "                 (NYCrime['Year'].isin(BroodVIIyears))]"
   ]
  },
  {
   "cell_type": "code",
   "execution_count": 12,
   "id": "416c0e91",
   "metadata": {},
   "outputs": [
    {
     "name": "stdout",
     "output_type": "stream",
     "text": [
      "<class 'pandas.core.frame.DataFrame'>\n",
      "Int64Index: 110 entries, 48 to 1601\n",
      "Data columns (total 15 columns):\n",
      " #   Column               Non-Null Count  Dtype  \n",
      "---  ------               --------------  -----  \n",
      " 0   County               110 non-null    object \n",
      " 1   Agency               110 non-null    object \n",
      " 2   Year                 110 non-null    int64  \n",
      " 3   Months Reported      101 non-null    float64\n",
      " 4   Index Total          110 non-null    float64\n",
      " 5   Violent Total        110 non-null    float64\n",
      " 6   Murder               110 non-null    float64\n",
      " 7   Rape                 110 non-null    float64\n",
      " 8   Robbery              110 non-null    float64\n",
      " 9   Aggravated Assault   110 non-null    float64\n",
      " 10  Property Total       110 non-null    float64\n",
      " 11  Burglary             110 non-null    float64\n",
      " 12  Larceny              110 non-null    float64\n",
      " 13  Motor Vehicle Theft  110 non-null    float64\n",
      " 14  Region               110 non-null    object \n",
      "dtypes: float64(11), int64(1), object(3)\n",
      "memory usage: 13.8+ KB\n"
     ]
    }
   ],
   "source": [
    "NYCrime2018.info() #110 rows"
   ]
  },
  {
   "cell_type": "code",
   "execution_count": 13,
   "id": "e0221b32",
   "metadata": {},
   "outputs": [],
   "source": [
    "##Bring data back together\n",
    "NYCrimetrim = pd.concat([NYCrime2016, NYCrime2018],axis=0)"
   ]
  },
  {
   "cell_type": "code",
   "execution_count": 14,
   "id": "2f9a8810",
   "metadata": {},
   "outputs": [
    {
     "data": {
      "text/plain": [
       "<bound method DataFrame.info of         County                               Agency  Year  Months Reported  \\\n",
       "1761   Suffolk                     Amityville Vg PD  2017             12.0   \n",
       "1762   Suffolk                      Asharoken Vg PD  2017             12.0   \n",
       "1763   Suffolk                         County Total  2017              NaN   \n",
       "1764   Suffolk                 East Hampton Town PD  2017             12.0   \n",
       "1765   Suffolk                   East Hampton Vg PD  2017             12.0   \n",
       "...        ...                                  ...   ...              ...   \n",
       "1597  Onondaga                    Skaneateles Vg PD  2017             12.0   \n",
       "1598  Onondaga                         Solvay Vg PD  2017             12.0   \n",
       "1599  Onondaga  SUNY Police - Environmental Science  2017             12.0   \n",
       "1600  Onondaga        SUNY Police - Upstate Medical  2017             12.0   \n",
       "1601  Onondaga                     Syracuse City PD  2017             12.0   \n",
       "\n",
       "      Index Total  Violent Total  Murder   Rape  Robbery  Aggravated Assault  \\\n",
       "1761        137.0           11.0     0.0    0.0      5.0                 6.0   \n",
       "1762          2.0            0.0     0.0    0.0      0.0                 0.0   \n",
       "1763      21462.0         1749.0    22.0  161.0    537.0              1029.0   \n",
       "1764        259.0           19.0     0.0    3.0      3.0                13.0   \n",
       "1765         50.0            1.0     0.0    0.0      0.0                 1.0   \n",
       "...           ...            ...     ...    ...      ...                 ...   \n",
       "1597         19.0            1.0     0.0    0.0      0.0                 1.0   \n",
       "1598        158.0           16.0     0.0    1.0      2.0                13.0   \n",
       "1599         17.0            0.0     0.0    0.0      0.0                 0.0   \n",
       "1600        110.0            5.0     0.0    0.0      1.0                 4.0   \n",
       "1601       5826.0         1009.0    20.0   98.0    284.0               607.0   \n",
       "\n",
       "      Property Total  Burglary  Larceny  Motor Vehicle Theft  \\\n",
       "1761           126.0      15.0    109.0                  2.0   \n",
       "1762             2.0       0.0      2.0                  0.0   \n",
       "1763         19713.0    1679.0  16928.0               1106.0   \n",
       "1764           240.0      34.0    194.0                 12.0   \n",
       "1765            49.0       4.0     45.0                  0.0   \n",
       "...              ...       ...      ...                  ...   \n",
       "1597            18.0       1.0     17.0                  0.0   \n",
       "1598           142.0      26.0    106.0                 10.0   \n",
       "1599            17.0       0.0     17.0                  0.0   \n",
       "1600           105.0       7.0     93.0                  5.0   \n",
       "1601          4817.0    1145.0   3301.0                371.0   \n",
       "\n",
       "                 Region  \n",
       "1761  Non-New York City  \n",
       "1762  Non-New York City  \n",
       "1763  Non-New York City  \n",
       "1764  Non-New York City  \n",
       "1765  Non-New York City  \n",
       "...                 ...  \n",
       "1597  Non-New York City  \n",
       "1598  Non-New York City  \n",
       "1599  Non-New York City  \n",
       "1600  Non-New York City  \n",
       "1601  Non-New York City  \n",
       "\n",
       "[184 rows x 15 columns]>"
      ]
     },
     "execution_count": 14,
     "metadata": {},
     "output_type": "execute_result"
    }
   ],
   "source": [
    "NYCrimetrim.info #184 rows, perfect"
   ]
  },
  {
   "cell_type": "code",
   "execution_count": 16,
   "id": "c0ea9cd8",
   "metadata": {},
   "outputs": [],
   "source": [
    "#Export!\n",
    "NYCrimetrim.to_csv('NYCrime.csv', index = False, header=True)"
   ]
  }
 ],
 "metadata": {
  "kernelspec": {
   "display_name": "Python 3",
   "language": "python",
   "name": "python3"
  },
  "language_info": {
   "codemirror_mode": {
    "name": "ipython",
    "version": 3
   },
   "file_extension": ".py",
   "mimetype": "text/x-python",
   "name": "python",
   "nbconvert_exporter": "python",
   "pygments_lexer": "ipython3",
   "version": "3.8.8"
  }
 },
 "nbformat": 4,
 "nbformat_minor": 5
}
