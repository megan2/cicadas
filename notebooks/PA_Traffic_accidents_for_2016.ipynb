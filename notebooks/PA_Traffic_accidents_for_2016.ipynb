{
 "cells": [
  {
   "cell_type": "code",
   "execution_count": 1,
   "id": "7a2f1a2a",
   "metadata": {},
   "outputs": [],
   "source": [
    "import pandas as pd\n",
    "import numpy as np\n",
    "import matplotlib.pyplot as plt\n",
    "import matplotlib.dates as mdates\n",
    "import datetime as dt\n",
    "import json"
   ]
  },
  {
   "cell_type": "markdown",
   "id": "7076ec7d",
   "metadata": {},
   "source": [
    "## Read in the files"
   ]
  },
  {
   "cell_type": "code",
   "execution_count": 47,
   "id": "23920c69",
   "metadata": {},
   "outputs": [],
   "source": [
    "#Data Source: https://pennshare.maps.arcgis.com/apps/webappviewer/index.html?id=8fdbf046e36e41649bbfd9d7dd7c7e7e\n",
    "PA2014 = pd.read_csv('../data/PA_CRASH_2014.csv', low_memory=False)\n",
    "PA2015 = pd.read_csv('../data/PA_CRASH_2015.csv', low_memory=False)\n",
    "PA2016 = pd.read_csv('../data/PA_CRASH_2016.csv', low_memory=False)\n",
    "PA2017 = pd.read_csv('../data/PA_CRASH_2017_Statewide.csv', low_memory=False)\n",
    "PA2018 = pd.read_csv('../data/PA_CRASH_2018.csv', low_memory=False)"
   ]
  },
  {
   "cell_type": "code",
   "execution_count": 48,
   "id": "9c48ff98",
   "metadata": {},
   "outputs": [],
   "source": [
    "# Main Dataframe\n",
    "files = [PA2014,PA2015,PA2016,PA2017,PA2018]\n",
    "PA_traffic = pd.concat(files)"
   ]
  },
  {
   "cell_type": "code",
   "execution_count": 39,
   "id": "4bc01f24",
   "metadata": {},
   "outputs": [
    {
     "data": {
      "text/html": [
       "<div>\n",
       "<style scoped>\n",
       "    .dataframe tbody tr th:only-of-type {\n",
       "        vertical-align: middle;\n",
       "    }\n",
       "\n",
       "    .dataframe tbody tr th {\n",
       "        vertical-align: top;\n",
       "    }\n",
       "\n",
       "    .dataframe thead th {\n",
       "        text-align: right;\n",
       "    }\n",
       "</style>\n",
       "<table border=\"1\" class=\"dataframe\">\n",
       "  <thead>\n",
       "    <tr style=\"text-align: right;\">\n",
       "      <th></th>\n",
       "      <th>COUNTY</th>\n",
       "      <th>CRASH_MONTH</th>\n",
       "      <th>CRASH_YEAR</th>\n",
       "    </tr>\n",
       "  </thead>\n",
       "  <tbody>\n",
       "    <tr>\n",
       "      <th>0</th>\n",
       "      <td>46</td>\n",
       "      <td>2</td>\n",
       "      <td>2014</td>\n",
       "    </tr>\n",
       "    <tr>\n",
       "      <th>1</th>\n",
       "      <td>39</td>\n",
       "      <td>5</td>\n",
       "      <td>2014</td>\n",
       "    </tr>\n",
       "    <tr>\n",
       "      <th>2</th>\n",
       "      <td>11</td>\n",
       "      <td>4</td>\n",
       "      <td>2014</td>\n",
       "    </tr>\n",
       "    <tr>\n",
       "      <th>3</th>\n",
       "      <td>2</td>\n",
       "      <td>1</td>\n",
       "      <td>2014</td>\n",
       "    </tr>\n",
       "    <tr>\n",
       "      <th>4</th>\n",
       "      <td>9</td>\n",
       "      <td>1</td>\n",
       "      <td>2014</td>\n",
       "    </tr>\n",
       "  </tbody>\n",
       "</table>\n",
       "</div>"
      ],
      "text/plain": [
       "   COUNTY  CRASH_MONTH  CRASH_YEAR\n",
       "0      46            2        2014\n",
       "1      39            5        2014\n",
       "2      11            4        2014\n",
       "3       2            1        2014\n",
       "4       9            1        2014"
      ]
     },
     "execution_count": 39,
     "metadata": {},
     "output_type": "execute_result"
    }
   ],
   "source": [
    "PA_traffic.head()    #635505 rows"
   ]
  },
  {
   "cell_type": "code",
   "execution_count": 49,
   "id": "0dcaf439",
   "metadata": {},
   "outputs": [],
   "source": [
    "# Maybe I need to convert to strings to use my .isin trick  ##s = s.astype(str)\n",
    "#AshevilleTraffic['accident_date'] = pd.to_datetime(AshevilleTraffic['accident_date'])\n",
    "PA_traffic['COUNTY'] =  PA_traffic['COUNTY'].astype(str)\n",
    "PA_traffic['CRASH_MONTH'] =  PA_traffic['CRASH_MONTH'].astype(str)"
   ]
  },
  {
   "cell_type": "markdown",
   "id": "2117b048",
   "metadata": {},
   "source": [
    "## Trimming"
   ]
  },
  {
   "cell_type": "code",
   "execution_count": null,
   "id": "63b503be",
   "metadata": {},
   "outputs": [],
   "source": [
    "#Data Dictionary for Counties\n",
    "COUNTY\n",
    "01 – ADAMS\n",
    "02 – ALLEGHENY\n",
    "03 – ARMSTRONG\n",
    "04 – BEAVER\n",
    "05 – BEDFORD\n",
    "06 – BERKS\n",
    "07 – BLAIR\n",
    "08 – BRADFORD\n",
    "09 – BUCKS\n",
    "10 – BUTLER\n",
    "11 – CAMBRIA\n",
    "12 – CAMERON\n",
    "13 – CARBON\n",
    "14 – CENTRE\n",
    "15 – CHESTER\n",
    "16 – CLARION\n",
    "17 – CLEARFIELD\n",
    "18 – CLINTON\n",
    "19 – COLUMBIA\n",
    "20 – CRAWFORD\n",
    "21 – CUMBERLAND\n",
    "22 – DAUPHIN\n",
    "23 – DELAWARE\n",
    "24 – ELK\n",
    "25 – ERIE\n",
    "26 – FAYETTE\n",
    "27 – FOREST\n",
    "28 – FRANKLIN\n",
    "29 – FULTON\n",
    "30 – GREENE\n",
    "31 – HUNTINGDON\n",
    "32 – INDIANA\n",
    "33 – JEFFERSON\n",
    "34 – JUNIATA\n",
    "35 – LACKAWANNA\n",
    "36 – LANCASTER\n",
    "37 – LAWRENCE\n",
    "38 – LEBANON\n",
    "39 – LEHIGH\n",
    "40 – LUZERNE\n",
    "41 – LYCOMING\n",
    "42 – MCKEAN\n",
    "43 – MERCER\n",
    "44 – MIFFLIN\n",
    "45 – MONROE\n",
    "46 – MONTGOMERY\n",
    "47 – MONTOUR\n",
    "48 – NORTHAMPTON\n",
    "49 –NORTHUMBERLAND\n",
    "50 – PERRY\n",
    "51 – PIKE\n",
    "52 – POTTER\n",
    "53 – SCHUYLKILL\n",
    "54 – SNYDER\n",
    "55 – SOMERSET\n",
    "56 – SULLIVAN\n",
    "57 – SUSQUEHANNA\n",
    "58 – TIOGA\n",
    "59 – UNION\n",
    "60 – VENANGO\n",
    "61 – WARREN\n",
    "62 – WASHINGTON\n",
    "63 – WAYNE\n",
    "64 – WESTMORELAND\n",
    "65 – WYOMING\n",
    "66 – YORK\n",
    "67 - PHILADELPHIA"
   ]
  },
  {
   "cell_type": "code",
   "execution_count": 50,
   "id": "960f6b0d",
   "metadata": {},
   "outputs": [],
   "source": [
    "###Relevant Cicada counties for 2016:\n",
    "#Allegheny\n",
    "#Carbon\n",
    "#Fayette\n",
    "#Greene\n",
    "#Somerset\n",
    "#Washington\n",
    "#Westmoreland\n",
    "\n",
    "PA_Counties = ['2','13','26','30','55','62','64']"
   ]
  },
  {
   "cell_type": "code",
   "execution_count": 51,
   "id": "ff09a837",
   "metadata": {},
   "outputs": [],
   "source": [
    "#Trim to relevant counties\n",
    "PA_trim = PA_traffic[(PA_traffic['COUNTY'].isin(PA_Counties))]"
   ]
  },
  {
   "cell_type": "code",
   "execution_count": 52,
   "id": "a0fce39f",
   "metadata": {},
   "outputs": [],
   "source": [
    "#Trim to relevant months\n",
    "PA_months = ['5','6'] #may and june\n",
    "PA_trim = PA_trim[(PA_trim['CRASH_MONTH'].isin(PA_months))]"
   ]
  },
  {
   "cell_type": "code",
   "execution_count": 53,
   "id": "c661f3ca",
   "metadata": {},
   "outputs": [
    {
     "name": "stdout",
     "output_type": "stream",
     "text": [
      "<class 'pandas.core.frame.DataFrame'>\n",
      "Int64Index: 16773 entries, 37633 to 128427\n",
      "Data columns (total 3 columns):\n",
      " #   Column       Non-Null Count  Dtype \n",
      "---  ------       --------------  ----- \n",
      " 0   COUNTY       16773 non-null  object\n",
      " 1   CRASH_MONTH  16773 non-null  object\n",
      " 2   CRASH_YEAR   16773 non-null  int64 \n",
      "dtypes: int64(1), object(2)\n",
      "memory usage: 524.2+ KB\n"
     ]
    }
   ],
   "source": [
    "PA_trim.info()  #16773 rows"
   ]
  },
  {
   "cell_type": "code",
   "execution_count": 54,
   "id": "80237af0",
   "metadata": {},
   "outputs": [],
   "source": [
    "# Update month from numbers to actual name of month\n",
    "\n",
    "PA_Trim_1 = PA_trim.replace(to_replace = '5',\n",
    "               value = 'May')"
   ]
  },
  {
   "cell_type": "code",
   "execution_count": 55,
   "id": "f9f6d7fc",
   "metadata": {},
   "outputs": [],
   "source": [
    "PA_Trim_final = PA_Trim_1.replace(to_replace = '6',\n",
    "               value = 'June')"
   ]
  },
  {
   "cell_type": "code",
   "execution_count": 56,
   "id": "45e64f3c",
   "metadata": {},
   "outputs": [
    {
     "name": "stdout",
     "output_type": "stream",
     "text": [
      "<class 'pandas.core.frame.DataFrame'>\n",
      "Int64Index: 16773 entries, 37633 to 128427\n",
      "Data columns (total 3 columns):\n",
      " #   Column       Non-Null Count  Dtype \n",
      "---  ------       --------------  ----- \n",
      " 0   COUNTY       16773 non-null  object\n",
      " 1   CRASH_MONTH  16773 non-null  object\n",
      " 2   CRASH_YEAR   16773 non-null  int64 \n",
      "dtypes: int64(1), object(2)\n",
      "memory usage: 524.2+ KB\n"
     ]
    }
   ],
   "source": [
    "PA_Trim_final.info()"
   ]
  },
  {
   "cell_type": "code",
   "execution_count": 57,
   "id": "68d3da48",
   "metadata": {},
   "outputs": [
    {
     "data": {
      "text/plain": [
       "array(['2', '62', '64', '26', '13', '30', '55'], dtype=object)"
      ]
     },
     "execution_count": 57,
     "metadata": {},
     "output_type": "execute_result"
    }
   ],
   "source": [
    "PA_Trim_final['COUNTY'].unique()"
   ]
  },
  {
   "cell_type": "code",
   "execution_count": 58,
   "id": "f1c6832d",
   "metadata": {},
   "outputs": [],
   "source": [
    "## Export\n",
    "PA_Trim_final.to_csv('PA_Traffic_accidents_final.csv', index = False, header=True)"
   ]
  }
 ],
 "metadata": {
  "kernelspec": {
   "display_name": "Python 3",
   "language": "python",
   "name": "python3"
  },
  "language_info": {
   "codemirror_mode": {
    "name": "ipython",
    "version": 3
   },
   "file_extension": ".py",
   "mimetype": "text/x-python",
   "name": "python",
   "nbconvert_exporter": "python",
   "pygments_lexer": "ipython3",
   "version": "3.8.8"
  }
 },
 "nbformat": 4,
 "nbformat_minor": 5
}
