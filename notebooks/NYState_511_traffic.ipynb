{
 "cells": [
  {
   "cell_type": "code",
   "execution_count": 2,
   "id": "8a256e94",
   "metadata": {},
   "outputs": [],
   "source": [
    "import pandas as pd\n",
    "import numpy as np\n",
    "import matplotlib.pyplot as plt\n",
    "import matplotlib.dates as mdates\n",
    "import datetime as dt\n",
    "import json\n",
    "import seaborn as sns\n",
    "import re"
   ]
  },
  {
   "cell_type": "code",
   "execution_count": 21,
   "id": "efc90703",
   "metadata": {},
   "outputs": [],
   "source": [
    "#Read in the original csv file\n",
    "NY511 = pd.read_csv('../data/511_NY_Events__Beginning_2010.csv', low_memory=False)\n",
    "\n",
    "#Data source: https://catalog.data.gov/nl/dataset/511-ny-events-beginning-2010"
   ]
  },
  {
   "cell_type": "code",
   "execution_count": 41,
   "id": "5001349c",
   "metadata": {
    "scrolled": true
   },
   "outputs": [
    {
     "name": "stdout",
     "output_type": "stream",
     "text": [
      "<class 'pandas.core.frame.DataFrame'>\n",
      "RangeIndex: 2627317 entries, 0 to 2627316\n",
      "Data columns (total 13 columns):\n",
      " #   Column                      Dtype  \n",
      "---  ------                      -----  \n",
      " 0   Event Type                  object \n",
      " 1   Organization Name           object \n",
      " 2   Facility Name               object \n",
      " 3   Direction                   object \n",
      " 4   City                        object \n",
      " 5   County                      object \n",
      " 6   State                       object \n",
      " 7   Create Time                 object \n",
      " 8   Close Time                  object \n",
      " 9   Event Description           object \n",
      " 10  Responding Organization Id  object \n",
      " 11  Latitude                    float64\n",
      " 12  Longitude                   float64\n",
      "dtypes: float64(2), object(11)\n",
      "memory usage: 260.6+ MB\n"
     ]
    }
   ],
   "source": [
    "NY511.info() #2627317 entries"
   ]
  },
  {
   "cell_type": "code",
   "execution_count": 22,
   "id": "2f28f421",
   "metadata": {},
   "outputs": [],
   "source": [
    "#List of counties with confirmed Brood 5 (2016) and Brood 8 (2018) sightings\n",
    "NYcounties = ['Cayuga', 'Onondaga', 'Livingston','Suffolk']"
   ]
  },
  {
   "cell_type": "code",
   "execution_count": 23,
   "id": "28e09697",
   "metadata": {},
   "outputs": [],
   "source": [
    "#New DataFrame with relevant counties only\n",
    "NY511_trim = NY511[(NY511['County'].isin(NYcounties))]"
   ]
  },
  {
   "cell_type": "markdown",
   "id": "232a3837",
   "metadata": {},
   "source": [
    "## Getting Relevant Traffic Incident Types\n"
   ]
  },
  {
   "cell_type": "code",
   "execution_count": 81,
   "id": "f38e26c6",
   "metadata": {},
   "outputs": [
    {
     "data": {
      "text/plain": [
       "array(['specialevents', 'construction', 'guard rail repairs',\n",
       "       'expansion joint repairs', 'roadwork', 'bridge work',\n",
       "       'overhead sign repair', 'roving repairs', 'accident', 'incident',\n",
       "       'pothole repairs', 'drainage improvements', 'line striping',\n",
       "       'construction, culvert repairs', 'milling, repaving',\n",
       "       'disabled vehicle', 'pothole repair', 'road sweeping',\n",
       "       'deck work, expansion joint repairs', 'disabled tractor trailer',\n",
       "       'road rehabilitation', 'overturned vehicle', 'steel repairs',\n",
       "       'traffic signal repairs', 'deck work',\n",
       "       'police department activity', 'emergency construction',\n",
       "       'downed tree', 'bridge rehabilitation, line striping',\n",
       "       'guard rail repairs, installation of sign structure, pothole repair, roadwork',\n",
       "       'vehicle fire', 'culvert repairs', 'bridge rehabilitation',\n",
       "       'delays, stop and go traffic',\n",
       "       'installation of conduits, vms repairs', 'milling',\n",
       "       'delays, earlier incident', 'repaving', 'accident road closed',\n",
       "       'debris spill', 'truck fire', 'special event', 'flooding',\n",
       "       'earlier incident', 'tree trimming', 'mowing',\n",
       "       'accident with injuries', 'accident investigation',\n",
       "       'street sweeping', 'installation of sign structure',\n",
       "       'installation of traffic monitoring systems',\n",
       "       'installation of conduits', 'survey work',\n",
       "       'construction, road sweeping', 'utility work', 'fair',\n",
       "       'renovation', 'bridge painting', 'accident, delays',\n",
       "       'fire department activity', 'other', 'delays',\n",
       "       'accident, jack-knifed tractor trailer',\n",
       "       'culvert repairs, guard rail repairs, installation of sign structure',\n",
       "       'gas main break', 'attenuator repairs',\n",
       "       'longterm construction, repaving',\n",
       "       'deck work, longterm construction', 'crack sealing',\n",
       "       'accident, downed wires', 'brush fire', 'fuel spill',\n",
       "       'construction, mowing', 'midday roadwork',\n",
       "       'installation of traffic management systems',\n",
       "       'construction, fire department activity', 'disabled bus',\n",
       "       'emergency repairs', 'disabled truck',\n",
       "       'downed pole, downed wires, overturned vehicle',\n",
       "       'speed restriction', 'plate repairs', 'watermain break',\n",
       "       'plowing and salting, roving repairs', 'plowing and salting',\n",
       "       'tractor trailer fire', 'downed wires, downed pole',\n",
       "       'pedestrian accident', 'misplaced tractor trailer', 'ems activity',\n",
       "       'downed pole', 'guard rail repairs, roadwork',\n",
       "       'watermain break repairs', 'installation of fiber optics',\n",
       "       'fence repairs', 'accident, disabled vehicle',\n",
       "       'construction, roving repairs',\n",
       "       'bridge replacement, longterm construction',\n",
       "       'bridge replacement, overnight roadwork',\n",
       "       'construction, drainage improvements, intersection improvements, reconstruction',\n",
       "       'longterm construction', 'fence repairs, roadwork',\n",
       "       'bridge work, steel repairs', 'bridge work, construction',\n",
       "       'delays, stop and go traffic, traffic congestion',\n",
       "       'construction cancelled, pothole repair', 'bus fire', 'sinkhole',\n",
       "       'cctv repairs', 'overturned truck',\n",
       "       'debris spill, earlier incident', 'repaving, roadwork',\n",
       "       'accident, overturned tractor trailer', 'pothole repair, roadwork',\n",
       "       'accident, emergency maintenance', 'accident, downed pole',\n",
       "       'intersection improvements', 'drainage improvements, roadwork',\n",
       "       'concert', 'festival', 'barrier repairs',\n",
       "       'accident with property damage', 'stuck gates',\n",
       "       'bridge cable repairs, mowing', 'deck work, emergency repairs',\n",
       "       'power problems', 'bridge replacement', 'golf tournament', 'race',\n",
       "       'overnight roadwork', 'rough road',\n",
       "       'bridge work, drainage improvements', 'operational activity',\n",
       "       'structure repairs', 'bridge work, repaving',\n",
       "       'delays, heavy traffic', 'overturned tractor trailer',\n",
       "       'overhead sign repair, survey work', 'downed wires',\n",
       "       'overnight roadwork, utility work', 'truck restrictions',\n",
       "       'jack-knifed tractor trailer', 'emergency repairs, line striping',\n",
       "       'emergency construction, pothole repairs',\n",
       "       'emergency repairs, pothole repair', 'signal problem',\n",
       "       'snow removal', 'malfunctioning traffic light',\n",
       "       'bridge rehabilitation, longterm construction',\n",
       "       'downed pole, downed wires', 'test message',\n",
       "       'fuel spill, overturned truck', 'wet pavement', 'vms repairs',\n",
       "       'bridge rehabilitation, overnight roadwork',\n",
       "       'misplaced commercial vehicle',\n",
       "       'drainage improvements, milling, repaving',\n",
       "       'accident, overturned truck',\n",
       "       'installation of sign structure, roadwork',\n",
       "       'construction, line striping', 'minor delays',\n",
       "       'rubbernecking delays', 'stop and go traffic, traffic congestion',\n",
       "       'milling, pothole repair', 'accident, debris spill',\n",
       "       'reconstruction, road rehabilitation', 'reconstruction',\n",
       "       'parking related, transit related incident',\n",
       "       'culvert repairs, roadwork', 'bridge work, longterm construction',\n",
       "       'bridge work, guard rail repairs', 'delays, vehicle fire',\n",
       "       'building fire', 'bridge painting, overnight roadwork',\n",
       "       'milling, roadwork',\n",
       "       'drainage improvements, guard rail repairs, roadwork',\n",
       "       'bridge work, overnight roadwork', 'falling ice',\n",
       "       'guard rail repairs, utility work',\n",
       "       'pothole repairs, roving repairs', 'missing sewer grate',\n",
       "       'accident with injuries, other',\n",
       "       'delays, heavy traffic, stop and go traffic', 'weather related',\n",
       "       'delays, other', 'line striping, repaving',\n",
       "       'guard rail repairs, mowing', 'line striping, overnight roadwork',\n",
       "       'traffic congestion, other', 'jack-knifed tractor trailer, other',\n",
       "       'bridge cable repairs', 'bridge work, deck work',\n",
       "       'crane operations', 'roadwork, structure repairs',\n",
       "       'construction, pothole repair', 'special event, speed restriction',\n",
       "       'bridge demolition', 'road maintenance operations',\n",
       "       'debris on roadway', 'stop and go traffic',\n",
       "       'milling, repaving, traffic signal repairs', 'incident cleared',\n",
       "       'accident cleared', 'slow traffic', 'injury accident',\n",
       "       'vehicle on fire',\n",
       "       'installation of sign structure, line striping, traffic signal repairs',\n",
       "       'road widening', 'police directing traffic',\n",
       "       'information available via internet', 'noise wall construction',\n",
       "       'road construction', 'emergency construction, roadwork',\n",
       "       'ramp widening', 'rescue and recovery work in progress',\n",
       "       'snowplows', 'accident investigation, pedestrian accident',\n",
       "       'falling debris', 'slow moving maintenance vehicle',\n",
       "       'bridge work, emergency repairs', 'scheduled roadwork',\n",
       "       'safety improvements', 'other special event', 'right lane closed',\n",
       "       'obstruction on roadway', 'disabled semi trailer',\n",
       "       'construction, street sweeping', 'bridge rehabilitation, roadwork',\n",
       "       'bridge demolition, roadwork', 'bridge painting, roadwork',\n",
       "       'reduced to one lane', 'object on roadway',\n",
       "       'right shoulder closed', 'left lane closed'], dtype=object)"
      ]
     },
     "execution_count": 81,
     "metadata": {},
     "output_type": "execute_result"
    }
   ],
   "source": [
    "NY511_trim['Event Type'].unique()"
   ]
  },
  {
   "cell_type": "code",
   "execution_count": 82,
   "id": "10572a5a",
   "metadata": {},
   "outputs": [],
   "source": [
    "#Relevant'Event Type' values to keep\n",
    "#assumptions made: These are unplanned events typically caused by human(s) action.  \n",
    "road_events=['accident', 'incident', 'delays, stop and go traffic', \n",
    "'delays, earlier incident', 'debris spill', 'earlier incident', 'special event', \n",
    "'accident, delays', 'delays', 'accident road closed', 'downed wires, downed pole', 'downed pole',\n",
    "'accident, disabled vehicle', 'delays, stop and go traffic, traffic congestion',\n",
    "'debris spill, earlier incident', 'accident, overturned tractor trailer', 'accident, emergency maintenance', \n",
    "'delays, heavy traffic', 'overturned tractor trailer', 'accident, jack-knifed tractor trailer', \n",
    "'jack-knifed tractor trailer', 'accident, overturned truck', 'overturned truck', 'stop and go traffic, traffic congestion',\n",
    "'rubbernecking delays', 'accident, debris spill']\n"
   ]
  },
  {
   "cell_type": "code",
   "execution_count": 83,
   "id": "73b7fb7b",
   "metadata": {},
   "outputs": [],
   "source": [
    "#trim dataframe to match the list of indivents/event types\n",
    "NY511_trim = NY511_trim[(NY511_trim['Event Type'].isin(road_events))]"
   ]
  },
  {
   "cell_type": "code",
   "execution_count": 84,
   "id": "82ff7f41",
   "metadata": {},
   "outputs": [
    {
     "name": "stdout",
     "output_type": "stream",
     "text": [
      "<class 'pandas.core.frame.DataFrame'>\n",
      "Int64Index: 19497 entries, 55011 to 1272921\n",
      "Data columns (total 13 columns):\n",
      " #   Column                      Non-Null Count  Dtype         \n",
      "---  ------                      --------------  -----         \n",
      " 0   Event Type                  19497 non-null  object        \n",
      " 1   Organization Name           19497 non-null  object        \n",
      " 2   Facility Name               19497 non-null  object        \n",
      " 3   Direction                   18624 non-null  object        \n",
      " 4   City                        18399 non-null  object        \n",
      " 5   County                      19497 non-null  object        \n",
      " 6   State                       19497 non-null  object        \n",
      " 7   Create Time                 19497 non-null  datetime64[ns]\n",
      " 8   Close Time                  19282 non-null  object        \n",
      " 9   Event Description           19497 non-null  object        \n",
      " 10  Responding Organization Id  19497 non-null  object        \n",
      " 11  Latitude                    19497 non-null  float64       \n",
      " 12  Longitude                   19497 non-null  float64       \n",
      "dtypes: datetime64[ns](1), float64(2), object(10)\n",
      "memory usage: 2.1+ MB\n"
     ]
    }
   ],
   "source": [
    "NY511_trim.info()  #55011 entries"
   ]
  },
  {
   "cell_type": "markdown",
   "id": "654d077b",
   "metadata": {},
   "source": [
    "## Getting Relevant Years and Months"
   ]
  },
  {
   "cell_type": "code",
   "execution_count": 131,
   "id": "787edeb5",
   "metadata": {},
   "outputs": [],
   "source": [
    "#convert times to datetimes\n",
    "NY511_trim['Create Time'] = pd.to_datetime(NY511_trim['Create Time'])"
   ]
  },
  {
   "cell_type": "code",
   "execution_count": 132,
   "id": "02957769",
   "metadata": {},
   "outputs": [],
   "source": [
    "#Periodical cicadas are confirmed in NY for Brood 5 (2016) and Brood 8 (2018) - trimmed extra years out.  Keep 2015, 2016, 2017, 2018, 2019.\n",
    "NY511_trim = NY511_trim[NY511_trim['Create Time'] > dt.datetime(2015,1,1)]\n",
    "NY511_trim = NY511_trim[NY511_trim['Create Time'] < dt.datetime(2020,1,1)]"
   ]
  },
  {
   "cell_type": "code",
   "execution_count": 133,
   "id": "ae7f140a",
   "metadata": {},
   "outputs": [
    {
     "name": "stdout",
     "output_type": "stream",
     "text": [
      "<class 'pandas.core.frame.DataFrame'>\n",
      "Int64Index: 19497 entries, 55011 to 1272921\n",
      "Data columns (total 14 columns):\n",
      " #   Column                      Non-Null Count  Dtype         \n",
      "---  ------                      --------------  -----         \n",
      " 0   Event Type                  19497 non-null  object        \n",
      " 1   Organization Name           19497 non-null  object        \n",
      " 2   Facility Name               19497 non-null  object        \n",
      " 3   Direction                   18624 non-null  object        \n",
      " 4   City                        18399 non-null  object        \n",
      " 5   County                      19497 non-null  object        \n",
      " 6   State                       19497 non-null  object        \n",
      " 7   Create Time                 19497 non-null  datetime64[ns]\n",
      " 8   Close Time                  19282 non-null  object        \n",
      " 9   Event Description           19497 non-null  object        \n",
      " 10  Responding Organization Id  19497 non-null  object        \n",
      " 11  Latitude                    19497 non-null  float64       \n",
      " 12  Longitude                   19497 non-null  float64       \n",
      " 13  Date                        19497 non-null  object        \n",
      "dtypes: datetime64[ns](1), float64(2), object(11)\n",
      "memory usage: 2.2+ MB\n"
     ]
    }
   ],
   "source": [
    "NY511_trim.info() #19497 entries.  Jan 2015 - Jan 2020"
   ]
  },
  {
   "cell_type": "code",
   "execution_count": 13,
   "id": "b851644a",
   "metadata": {},
   "outputs": [],
   "source": [
    "#ATTEMPT 1:\n",
    "#Reducing records to May and June of the years 2015, 2016, 2017, 2018, 2019.  Cicada months.\n",
    "\n",
    "#df[(df['date'] > '2002-1-1 01:00:00') & (df['date'] <= '2002-1-1 04:00:00')]\n",
    "#mask = (df['Joined date'] > '2019-06-1') & (df['Joined date'] <= '2020-02-05')\n",
    "\n",
    "NY511_trimtest = (NY511_trim['Create Time'].dt.month == 5) & (NY511_trim['Create Time'].dt.month == 6)\n",
    "NY511_trimtest.tail(60) \n",
    "\n",
    "# returns 'False' instead of row values..."
   ]
  },
  {
   "cell_type": "code",
   "execution_count": 134,
   "id": "f086da52",
   "metadata": {},
   "outputs": [],
   "source": [
    "#Breaking apart the datetime to date and time (don't need to include the time)\n",
    "#df['new_date'] = [d.date() for d in df['my_timestamp']]\n",
    "NY511_trim['Date'] = [d.date() for d in NY511_trim['Create Time']]"
   ]
  },
  {
   "cell_type": "code",
   "execution_count": 135,
   "id": "ce8eda6f",
   "metadata": {},
   "outputs": [
    {
     "name": "stderr",
     "output_type": "stream",
     "text": [
      "<ipython-input-135-ae078b57c5f1>:5: UserWarning: Boolean Series key will be reindexed to match DataFrame index.\n",
      "  NY511_2015 = NY511_2015[NY511_trim['Create Time'] < dt.datetime(2015,6,30)]\n"
     ]
    }
   ],
   "source": [
    "#Attempt 2:\n",
    "##Reducing records to May and June of the years 2015, 2016, 2017, 2018, 2019.  Cicada months.\n",
    "\n",
    "NY511_2015 = NY511_trim[NY511_trim['Create Time'] > dt.datetime(2015,5,1)]\n",
    "NY511_2015 = NY511_2015[NY511_trim['Create Time'] < dt.datetime(2015,6,30)]"
   ]
  },
  {
   "cell_type": "code",
   "execution_count": 136,
   "id": "0aabb0cd",
   "metadata": {},
   "outputs": [
    {
     "name": "stdout",
     "output_type": "stream",
     "text": [
      "<class 'pandas.core.frame.DataFrame'>\n",
      "Int64Index: 474 entries, 1207693 to 1252169\n",
      "Data columns (total 14 columns):\n",
      " #   Column                      Non-Null Count  Dtype         \n",
      "---  ------                      --------------  -----         \n",
      " 0   Event Type                  474 non-null    object        \n",
      " 1   Organization Name           474 non-null    object        \n",
      " 2   Facility Name               474 non-null    object        \n",
      " 3   Direction                   452 non-null    object        \n",
      " 4   City                        425 non-null    object        \n",
      " 5   County                      474 non-null    object        \n",
      " 6   State                       474 non-null    object        \n",
      " 7   Create Time                 474 non-null    datetime64[ns]\n",
      " 8   Close Time                  473 non-null    object        \n",
      " 9   Event Description           474 non-null    object        \n",
      " 10  Responding Organization Id  474 non-null    object        \n",
      " 11  Latitude                    474 non-null    float64       \n",
      " 12  Longitude                   474 non-null    float64       \n",
      " 13  Date                        474 non-null    object        \n",
      "dtypes: datetime64[ns](1), float64(2), object(11)\n",
      "memory usage: 55.5+ KB\n"
     ]
    }
   ],
   "source": [
    "NY511_2015.info() #474 entries"
   ]
  },
  {
   "cell_type": "code",
   "execution_count": 137,
   "id": "29d125db",
   "metadata": {},
   "outputs": [],
   "source": [
    "NY511_2016 = NY511_trim[NY511_trim['Create Time'] > dt.datetime(2016,5,1)]\n",
    "NY511_2016 = NY511_2016[NY511_2016['Create Time'] < dt.datetime(2016,6,30)]"
   ]
  },
  {
   "cell_type": "code",
   "execution_count": 122,
   "id": "50c8bdd8",
   "metadata": {},
   "outputs": [
    {
     "name": "stdout",
     "output_type": "stream",
     "text": [
      "<class 'pandas.core.frame.DataFrame'>\n",
      "Int64Index: 1176 entries, 829109 to 920702\n",
      "Data columns (total 14 columns):\n",
      " #   Column                      Non-Null Count  Dtype         \n",
      "---  ------                      --------------  -----         \n",
      " 0   Event Type                  1176 non-null   object        \n",
      " 1   Organization Name           1176 non-null   object        \n",
      " 2   Facility Name               1176 non-null   object        \n",
      " 3   Direction                   1115 non-null   object        \n",
      " 4   City                        1044 non-null   object        \n",
      " 5   County                      1176 non-null   object        \n",
      " 6   State                       1176 non-null   object        \n",
      " 7   Create Time                 1176 non-null   datetime64[ns]\n",
      " 8   Close Time                  1174 non-null   object        \n",
      " 9   Event Description           1176 non-null   object        \n",
      " 10  Responding Organization Id  1176 non-null   object        \n",
      " 11  Latitude                    1176 non-null   float64       \n",
      " 12  Longitude                   1176 non-null   float64       \n",
      " 13  Date                        1176 non-null   object        \n",
      "dtypes: datetime64[ns](1), float64(2), object(11)\n",
      "memory usage: 137.8+ KB\n"
     ]
    }
   ],
   "source": [
    "NY511_2016.info() #1176 entries"
   ]
  },
  {
   "cell_type": "code",
   "execution_count": 138,
   "id": "9d946f8e",
   "metadata": {},
   "outputs": [
    {
     "name": "stderr",
     "output_type": "stream",
     "text": [
      "<ipython-input-138-da6f987a6b93>:2: UserWarning: Boolean Series key will be reindexed to match DataFrame index.\n",
      "  NY511_2017 = NY511_2017[NY511_trim['Create Time'] < dt.datetime(2017,6,30)]\n"
     ]
    }
   ],
   "source": [
    "NY511_2017 = NY511_trim[NY511_trim['Create Time'] > dt.datetime(2017,5,1)]\n",
    "NY511_2017 = NY511_2017[NY511_trim['Create Time'] < dt.datetime(2017,6,30)]"
   ]
  },
  {
   "cell_type": "code",
   "execution_count": 124,
   "id": "36547269",
   "metadata": {},
   "outputs": [
    {
     "name": "stdout",
     "output_type": "stream",
     "text": [
      "<class 'pandas.core.frame.DataFrame'>\n",
      "Int64Index: 753 entries, 573156 to 619589\n",
      "Data columns (total 14 columns):\n",
      " #   Column                      Non-Null Count  Dtype         \n",
      "---  ------                      --------------  -----         \n",
      " 0   Event Type                  753 non-null    object        \n",
      " 1   Organization Name           753 non-null    object        \n",
      " 2   Facility Name               753 non-null    object        \n",
      " 3   Direction                   719 non-null    object        \n",
      " 4   City                        740 non-null    object        \n",
      " 5   County                      753 non-null    object        \n",
      " 6   State                       753 non-null    object        \n",
      " 7   Create Time                 753 non-null    datetime64[ns]\n",
      " 8   Close Time                  752 non-null    object        \n",
      " 9   Event Description           753 non-null    object        \n",
      " 10  Responding Organization Id  753 non-null    object        \n",
      " 11  Latitude                    753 non-null    float64       \n",
      " 12  Longitude                   753 non-null    float64       \n",
      " 13  Date                        753 non-null    object        \n",
      "dtypes: datetime64[ns](1), float64(2), object(11)\n",
      "memory usage: 88.2+ KB\n"
     ]
    }
   ],
   "source": [
    "NY511_2017.info() #753 entries"
   ]
  },
  {
   "cell_type": "code",
   "execution_count": 139,
   "id": "758f3503",
   "metadata": {},
   "outputs": [
    {
     "name": "stderr",
     "output_type": "stream",
     "text": [
      "<ipython-input-139-0d3dcf07edf6>:2: UserWarning: Boolean Series key will be reindexed to match DataFrame index.\n",
      "  NY511_2018 = NY511_2018[NY511_trim['Create Time'] < dt.datetime(2018,6,30)]\n"
     ]
    }
   ],
   "source": [
    "NY511_2018 = NY511_trim[NY511_trim['Create Time'] > dt.datetime(2018,5,1)]\n",
    "NY511_2018 = NY511_2018[NY511_trim['Create Time'] < dt.datetime(2018,6,30)]"
   ]
  },
  {
   "cell_type": "code",
   "execution_count": 103,
   "id": "6ef6405b",
   "metadata": {},
   "outputs": [
    {
     "name": "stdout",
     "output_type": "stream",
     "text": [
      "<class 'pandas.core.frame.DataFrame'>\n",
      "Int64Index: 737 entries, 321253 to 367478\n",
      "Data columns (total 13 columns):\n",
      " #   Column                      Non-Null Count  Dtype         \n",
      "---  ------                      --------------  -----         \n",
      " 0   Event Type                  737 non-null    object        \n",
      " 1   Organization Name           737 non-null    object        \n",
      " 2   Facility Name               737 non-null    object        \n",
      " 3   Direction                   723 non-null    object        \n",
      " 4   City                        713 non-null    object        \n",
      " 5   County                      737 non-null    object        \n",
      " 6   State                       737 non-null    object        \n",
      " 7   Create Time                 737 non-null    datetime64[ns]\n",
      " 8   Close Time                  734 non-null    object        \n",
      " 9   Event Description           737 non-null    object        \n",
      " 10  Responding Organization Id  737 non-null    object        \n",
      " 11  Latitude                    737 non-null    float64       \n",
      " 12  Longitude                   737 non-null    float64       \n",
      "dtypes: datetime64[ns](1), float64(2), object(10)\n",
      "memory usage: 80.6+ KB\n"
     ]
    }
   ],
   "source": [
    "NY511_2018.info()  #737 entries"
   ]
  },
  {
   "cell_type": "code",
   "execution_count": 140,
   "id": "714c0a23",
   "metadata": {},
   "outputs": [
    {
     "name": "stderr",
     "output_type": "stream",
     "text": [
      "<ipython-input-140-2511484711d7>:2: UserWarning: Boolean Series key will be reindexed to match DataFrame index.\n",
      "  NY511_2019 = NY511_2019[NY511_trim['Create Time'] < dt.datetime(2019,6,30)]\n"
     ]
    }
   ],
   "source": [
    "NY511_2019 = NY511_trim[NY511_trim['Create Time'] > dt.datetime(2019,5,1)]\n",
    "NY511_2019 = NY511_2019[NY511_trim['Create Time'] < dt.datetime(2019,6,30)]"
   ]
  },
  {
   "cell_type": "code",
   "execution_count": 105,
   "id": "4e8a69bb",
   "metadata": {},
   "outputs": [
    {
     "name": "stdout",
     "output_type": "stream",
     "text": [
      "<class 'pandas.core.frame.DataFrame'>\n",
      "Int64Index: 0 entries\n",
      "Data columns (total 13 columns):\n",
      " #   Column                      Non-Null Count  Dtype         \n",
      "---  ------                      --------------  -----         \n",
      " 0   Event Type                  0 non-null      object        \n",
      " 1   Organization Name           0 non-null      object        \n",
      " 2   Facility Name               0 non-null      object        \n",
      " 3   Direction                   0 non-null      object        \n",
      " 4   City                        0 non-null      object        \n",
      " 5   County                      0 non-null      object        \n",
      " 6   State                       0 non-null      object        \n",
      " 7   Create Time                 0 non-null      datetime64[ns]\n",
      " 8   Close Time                  0 non-null      object        \n",
      " 9   Event Description           0 non-null      object        \n",
      " 10  Responding Organization Id  0 non-null      object        \n",
      " 11  Latitude                    0 non-null      float64       \n",
      " 12  Longitude                   0 non-null      float64       \n",
      "dtypes: datetime64[ns](1), float64(2), object(10)\n",
      "memory usage: 0.0+ bytes\n"
     ]
    }
   ],
   "source": [
    "NY511_2019.info() #0 entries.  There might be a gap in the data. See below"
   ]
  },
  {
   "cell_type": "code",
   "execution_count": 115,
   "id": "1eec8c66",
   "metadata": {},
   "outputs": [
    {
     "data": {
      "text/html": [
       "<div>\n",
       "<style scoped>\n",
       "    .dataframe tbody tr th:only-of-type {\n",
       "        vertical-align: middle;\n",
       "    }\n",
       "\n",
       "    .dataframe tbody tr th {\n",
       "        vertical-align: top;\n",
       "    }\n",
       "\n",
       "    .dataframe thead th {\n",
       "        text-align: right;\n",
       "    }\n",
       "</style>\n",
       "<table border=\"1\" class=\"dataframe\">\n",
       "  <thead>\n",
       "    <tr style=\"text-align: right;\">\n",
       "      <th></th>\n",
       "      <th>Event Type</th>\n",
       "      <th>Organization Name</th>\n",
       "      <th>Facility Name</th>\n",
       "      <th>Direction</th>\n",
       "      <th>City</th>\n",
       "      <th>County</th>\n",
       "      <th>State</th>\n",
       "      <th>Create Time</th>\n",
       "      <th>Close Time</th>\n",
       "      <th>Event Description</th>\n",
       "      <th>Responding Organization Id</th>\n",
       "      <th>Latitude</th>\n",
       "      <th>Longitude</th>\n",
       "    </tr>\n",
       "  </thead>\n",
       "  <tbody>\n",
       "    <tr>\n",
       "      <th>55011</th>\n",
       "      <td>accident</td>\n",
       "      <td>New York State Department of Transportation Re...</td>\n",
       "      <td>I-690</td>\n",
       "      <td>Westbound</td>\n",
       "      <td>before Geddes</td>\n",
       "      <td>Onondaga</td>\n",
       "      <td>NY</td>\n",
       "      <td>2019-09-30 16:20:20</td>\n",
       "      <td>09/30/2019 05:17:24 PM</td>\n",
       "      <td>Accident on I-690 westbound before Exit 7 - RO...</td>\n",
       "      <td>New York State Department of Transportation Re...</td>\n",
       "      <td>43.076400</td>\n",
       "      <td>-76.214302</td>\n",
       "    </tr>\n",
       "    <tr>\n",
       "      <th>55058</th>\n",
       "      <td>accident</td>\n",
       "      <td>New York State Department of Transportation (R...</td>\n",
       "      <td>I-495</td>\n",
       "      <td>Eastbound</td>\n",
       "      <td>between Huntington</td>\n",
       "      <td>Suffolk</td>\n",
       "      <td>NY</td>\n",
       "      <td>2019-09-30 15:32:19</td>\n",
       "      <td>09/30/2019 04:10:18 PM</td>\n",
       "      <td>Crash on I-495 eastbound between Exit 49N - NY...</td>\n",
       "      <td>New York State Department of Transportation (R...</td>\n",
       "      <td>40.780799</td>\n",
       "      <td>-73.417701</td>\n",
       "    </tr>\n",
       "    <tr>\n",
       "      <th>55061</th>\n",
       "      <td>accident</td>\n",
       "      <td>New York State Department of Transportation Re...</td>\n",
       "      <td>I-81</td>\n",
       "      <td>Southbound</td>\n",
       "      <td>before Syracuse</td>\n",
       "      <td>Onondaga</td>\n",
       "      <td>NY</td>\n",
       "      <td>2019-09-30 15:29:18</td>\n",
       "      <td>09/30/2019 03:58:14 PM</td>\n",
       "      <td>Accident on I-81 southbound before Exit 17 - S...</td>\n",
       "      <td>New York State Department of Transportation Re...</td>\n",
       "      <td>43.020000</td>\n",
       "      <td>-76.140296</td>\n",
       "    </tr>\n",
       "    <tr>\n",
       "      <th>55161</th>\n",
       "      <td>incident</td>\n",
       "      <td>MTA Long Island Rail Road</td>\n",
       "      <td>Montauk Branch</td>\n",
       "      <td>Westbound</td>\n",
       "      <td>from Suffolk County</td>\n",
       "      <td>Suffolk</td>\n",
       "      <td>NY</td>\n",
       "      <td>2019-09-30 13:27:17</td>\n",
       "      <td>09/30/2019 02:09:18 PM</td>\n",
       "      <td>Due to Track work, westbound Montauk Branch fr...</td>\n",
       "      <td>MTA Long Island Rail Road</td>\n",
       "      <td>41.045433</td>\n",
       "      <td>-71.951011</td>\n",
       "    </tr>\n",
       "    <tr>\n",
       "      <th>55268</th>\n",
       "      <td>incident</td>\n",
       "      <td>New York State Department of Transportation (R...</td>\n",
       "      <td>I-495</td>\n",
       "      <td>Eastbound</td>\n",
       "      <td>between Huntington</td>\n",
       "      <td>Suffolk</td>\n",
       "      <td>NY</td>\n",
       "      <td>2019-09-30 10:46:20</td>\n",
       "      <td>09/30/2019 02:18:22 PM</td>\n",
       "      <td>Crash road closed on I-495 eastbound between E...</td>\n",
       "      <td>New York State Department of Transportation (R...</td>\n",
       "      <td>40.787700</td>\n",
       "      <td>-73.378402</td>\n",
       "    </tr>\n",
       "    <tr>\n",
       "      <th>...</th>\n",
       "      <td>...</td>\n",
       "      <td>...</td>\n",
       "      <td>...</td>\n",
       "      <td>...</td>\n",
       "      <td>...</td>\n",
       "      <td>...</td>\n",
       "      <td>...</td>\n",
       "      <td>...</td>\n",
       "      <td>...</td>\n",
       "      <td>...</td>\n",
       "      <td>...</td>\n",
       "      <td>...</td>\n",
       "      <td>...</td>\n",
       "    </tr>\n",
       "    <tr>\n",
       "      <th>128501</th>\n",
       "      <td>incident</td>\n",
       "      <td>MTA Long Island Rail Road</td>\n",
       "      <td>Montauk Branch</td>\n",
       "      <td>Westbound</td>\n",
       "      <td>out of Suffolk County</td>\n",
       "      <td>Suffolk</td>\n",
       "      <td>NY</td>\n",
       "      <td>2019-07-01 03:19:17</td>\n",
       "      <td>07/01/2019 03:52:18 AM</td>\n",
       "      <td>Due to Equipment problems, westbound Montauk B...</td>\n",
       "      <td>MTA Long Island Rail Road</td>\n",
       "      <td>41.045433</td>\n",
       "      <td>-71.951011</td>\n",
       "    </tr>\n",
       "    <tr>\n",
       "      <th>128512</th>\n",
       "      <td>incident</td>\n",
       "      <td>New York State Department of Transportation (R...</td>\n",
       "      <td>NY 25</td>\n",
       "      <td>Westbound</td>\n",
       "      <td>area of Huntington</td>\n",
       "      <td>Suffolk</td>\n",
       "      <td>NY</td>\n",
       "      <td>2019-07-01 02:01:15</td>\n",
       "      <td>07/01/2019 04:29:14 AM</td>\n",
       "      <td>Downed wires on NY 25 westbound area of Commac...</td>\n",
       "      <td>New York State Department of Transportation (R...</td>\n",
       "      <td>40.842899</td>\n",
       "      <td>-73.293197</td>\n",
       "    </tr>\n",
       "    <tr>\n",
       "      <th>128537</th>\n",
       "      <td>incident</td>\n",
       "      <td>MTA Long Island Rail Road</td>\n",
       "      <td>Montauk Branch</td>\n",
       "      <td>Westbound</td>\n",
       "      <td>from Suffolk County</td>\n",
       "      <td>Suffolk</td>\n",
       "      <td>NY</td>\n",
       "      <td>2019-07-01 00:11:15</td>\n",
       "      <td>07/01/2019 02:01:15 AM</td>\n",
       "      <td>Due to Equipment problems, westbound Montauk B...</td>\n",
       "      <td>MTA Long Island Rail Road</td>\n",
       "      <td>40.820976</td>\n",
       "      <td>-72.704284</td>\n",
       "    </tr>\n",
       "    <tr>\n",
       "      <th>128724</th>\n",
       "      <td>incident</td>\n",
       "      <td>MTA Long Island Rail Road</td>\n",
       "      <td>Port Jefferson Branch</td>\n",
       "      <td>Westbound</td>\n",
       "      <td>from Suffolk County</td>\n",
       "      <td>Suffolk</td>\n",
       "      <td>NY</td>\n",
       "      <td>2019-04-03 07:56:17</td>\n",
       "      <td>NaN</td>\n",
       "      <td>Due to Operational activity, westbound Port Je...</td>\n",
       "      <td>MTA Long Island Rail Road</td>\n",
       "      <td>40.852352</td>\n",
       "      <td>-73.409812</td>\n",
       "    </tr>\n",
       "    <tr>\n",
       "      <th>128733</th>\n",
       "      <td>incident</td>\n",
       "      <td>MTA Long Island Rail Road</td>\n",
       "      <td>Ronkonkoma Branch</td>\n",
       "      <td>Westbound</td>\n",
       "      <td>from Ronkonkoma</td>\n",
       "      <td>Suffolk</td>\n",
       "      <td>NY</td>\n",
       "      <td>2019-04-03 07:42:17</td>\n",
       "      <td>NaN</td>\n",
       "      <td>Due to Operational activity, westbound Ronkonk...</td>\n",
       "      <td>MTA Long Island Rail Road</td>\n",
       "      <td>40.808666</td>\n",
       "      <td>-73.107856</td>\n",
       "    </tr>\n",
       "  </tbody>\n",
       "</table>\n",
       "<p>1200 rows × 13 columns</p>\n",
       "</div>"
      ],
      "text/plain": [
       "       Event Type                                  Organization Name  \\\n",
       "55011    accident  New York State Department of Transportation Re...   \n",
       "55058    accident  New York State Department of Transportation (R...   \n",
       "55061    accident  New York State Department of Transportation Re...   \n",
       "55161    incident                          MTA Long Island Rail Road   \n",
       "55268    incident  New York State Department of Transportation (R...   \n",
       "...           ...                                                ...   \n",
       "128501   incident                          MTA Long Island Rail Road   \n",
       "128512   incident  New York State Department of Transportation (R...   \n",
       "128537   incident                          MTA Long Island Rail Road   \n",
       "128724   incident                          MTA Long Island Rail Road   \n",
       "128733   incident                          MTA Long Island Rail Road   \n",
       "\n",
       "                Facility Name   Direction                   City    County  \\\n",
       "55011                   I-690   Westbound          before Geddes  Onondaga   \n",
       "55058                   I-495   Eastbound     between Huntington   Suffolk   \n",
       "55061                    I-81  Southbound        before Syracuse  Onondaga   \n",
       "55161          Montauk Branch   Westbound    from Suffolk County   Suffolk   \n",
       "55268                   I-495   Eastbound     between Huntington   Suffolk   \n",
       "...                       ...         ...                    ...       ...   \n",
       "128501         Montauk Branch   Westbound  out of Suffolk County   Suffolk   \n",
       "128512                  NY 25   Westbound     area of Huntington   Suffolk   \n",
       "128537         Montauk Branch   Westbound    from Suffolk County   Suffolk   \n",
       "128724  Port Jefferson Branch   Westbound    from Suffolk County   Suffolk   \n",
       "128733      Ronkonkoma Branch   Westbound        from Ronkonkoma   Suffolk   \n",
       "\n",
       "       State         Create Time              Close Time  \\\n",
       "55011     NY 2019-09-30 16:20:20  09/30/2019 05:17:24 PM   \n",
       "55058     NY 2019-09-30 15:32:19  09/30/2019 04:10:18 PM   \n",
       "55061     NY 2019-09-30 15:29:18  09/30/2019 03:58:14 PM   \n",
       "55161     NY 2019-09-30 13:27:17  09/30/2019 02:09:18 PM   \n",
       "55268     NY 2019-09-30 10:46:20  09/30/2019 02:18:22 PM   \n",
       "...      ...                 ...                     ...   \n",
       "128501    NY 2019-07-01 03:19:17  07/01/2019 03:52:18 AM   \n",
       "128512    NY 2019-07-01 02:01:15  07/01/2019 04:29:14 AM   \n",
       "128537    NY 2019-07-01 00:11:15  07/01/2019 02:01:15 AM   \n",
       "128724    NY 2019-04-03 07:56:17                     NaN   \n",
       "128733    NY 2019-04-03 07:42:17                     NaN   \n",
       "\n",
       "                                        Event Description  \\\n",
       "55011   Accident on I-690 westbound before Exit 7 - RO...   \n",
       "55058   Crash on I-495 eastbound between Exit 49N - NY...   \n",
       "55061   Accident on I-81 southbound before Exit 17 - S...   \n",
       "55161   Due to Track work, westbound Montauk Branch fr...   \n",
       "55268   Crash road closed on I-495 eastbound between E...   \n",
       "...                                                   ...   \n",
       "128501  Due to Equipment problems, westbound Montauk B...   \n",
       "128512  Downed wires on NY 25 westbound area of Commac...   \n",
       "128537  Due to Equipment problems, westbound Montauk B...   \n",
       "128724  Due to Operational activity, westbound Port Je...   \n",
       "128733  Due to Operational activity, westbound Ronkonk...   \n",
       "\n",
       "                               Responding Organization Id   Latitude  \\\n",
       "55011   New York State Department of Transportation Re...  43.076400   \n",
       "55058   New York State Department of Transportation (R...  40.780799   \n",
       "55061   New York State Department of Transportation Re...  43.020000   \n",
       "55161                           MTA Long Island Rail Road  41.045433   \n",
       "55268   New York State Department of Transportation (R...  40.787700   \n",
       "...                                                   ...        ...   \n",
       "128501                          MTA Long Island Rail Road  41.045433   \n",
       "128512  New York State Department of Transportation (R...  40.842899   \n",
       "128537                          MTA Long Island Rail Road  40.820976   \n",
       "128724                          MTA Long Island Rail Road  40.852352   \n",
       "128733                          MTA Long Island Rail Road  40.808666   \n",
       "\n",
       "        Longitude  \n",
       "55011  -76.214302  \n",
       "55058  -73.417701  \n",
       "55061  -76.140296  \n",
       "55161  -71.951011  \n",
       "55268  -73.378402  \n",
       "...           ...  \n",
       "128501 -71.951011  \n",
       "128512 -73.293197  \n",
       "128537 -72.704284  \n",
       "128724 -73.409812  \n",
       "128733 -73.107856  \n",
       "\n",
       "[1200 rows x 13 columns]"
      ]
     },
     "execution_count": 115,
     "metadata": {},
     "output_type": "execute_result"
    }
   ],
   "source": [
    "#Why no rows for 2019?\n",
    "NY511_trim.sort_values('Create Time', ascending=False)\n",
    "NY511_trim.head(1200)\n",
    "#No rows between 2019-07-01 00:11:15 and 2019-04-03 07:56:17.  Data in data collection? Bug from my trimming?"
   ]
  },
  {
   "cell_type": "markdown",
   "id": "4b703444",
   "metadata": {},
   "source": [
    "---------------------------------"
   ]
  },
  {
   "cell_type": "markdown",
   "id": "b14571eb",
   "metadata": {},
   "source": [
    "--------------------------"
   ]
  },
  {
   "cell_type": "markdown",
   "id": "0b9502c8",
   "metadata": {},
   "source": [
    "## Export the data"
   ]
  },
  {
   "cell_type": "code",
   "execution_count": 144,
   "id": "255e4244",
   "metadata": {},
   "outputs": [],
   "source": [
    "## Bringing the yearly dataframes into a single dataframe\n",
    "\n",
    "years = [NY511_2015, NY511_2016, NY511_2017, NY511_2018, NY511_2019]\n",
    "NY511_final = pd.concat(years)"
   ]
  },
  {
   "cell_type": "code",
   "execution_count": 145,
   "id": "5f9c685b",
   "metadata": {},
   "outputs": [],
   "source": [
    "#Create a column specifically for the date\n",
    "\n",
    "NY511_final['Date'] = [d.date() for d in NY511_final['Create Time']]\n",
    "NY511_final['Date'] = pd.to_datetime(NY511_final['Date'])"
   ]
  },
  {
   "cell_type": "code",
   "execution_count": 146,
   "id": "488111e9",
   "metadata": {},
   "outputs": [],
   "source": [
    "#Save new dataframe as a csv\n",
    "NY511_final.to_csv('NY511_final.csv', index = False, header=True)"
   ]
  }
 ],
 "metadata": {
  "kernelspec": {
   "display_name": "Python 3",
   "language": "python",
   "name": "python3"
  },
  "language_info": {
   "codemirror_mode": {
    "name": "ipython",
    "version": 3
   },
   "file_extension": ".py",
   "mimetype": "text/x-python",
   "name": "python",
   "nbconvert_exporter": "python",
   "pygments_lexer": "ipython3",
   "version": "3.8.8"
  }
 },
 "nbformat": 4,
 "nbformat_minor": 5
}
