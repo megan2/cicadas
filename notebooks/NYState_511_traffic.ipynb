{
 "cells": [
  {
   "cell_type": "code",
   "execution_count": 2,
   "id": "8a256e94",
   "metadata": {},
   "outputs": [],
   "source": [
    "import pandas as pd\n",
    "import numpy as np\n",
    "import matplotlib.pyplot as plt\n",
    "import matplotlib.dates as mdates\n",
    "import datetime as dt\n",
    "import json\n",
    "import seaborn as sns\n",
    "import re"
   ]
  },
  {
   "cell_type": "code",
   "execution_count": 21,
   "id": "efc90703",
   "metadata": {},
   "outputs": [],
   "source": [
    "#Read in the original csv file\n",
    "NY511 = pd.read_csv('../data/511_NY_Events__Beginning_2010.csv', low_memory=False)\n",
    "\n",
    "#Data source: https://catalog.data.gov/nl/dataset/511-ny-events-beginning-2010"
   ]
  },
  {
   "cell_type": "code",
   "execution_count": 41,
   "id": "5001349c",
   "metadata": {
    "scrolled": true
   },
   "outputs": [
    {
     "name": "stdout",
     "output_type": "stream",
     "text": [
      "<class 'pandas.core.frame.DataFrame'>\n",
      "RangeIndex: 2627317 entries, 0 to 2627316\n",
      "Data columns (total 13 columns):\n",
      " #   Column                      Dtype  \n",
      "---  ------                      -----  \n",
      " 0   Event Type                  object \n",
      " 1   Organization Name           object \n",
      " 2   Facility Name               object \n",
      " 3   Direction                   object \n",
      " 4   City                        object \n",
      " 5   County                      object \n",
      " 6   State                       object \n",
      " 7   Create Time                 object \n",
      " 8   Close Time                  object \n",
      " 9   Event Description           object \n",
      " 10  Responding Organization Id  object \n",
      " 11  Latitude                    float64\n",
      " 12  Longitude                   float64\n",
      "dtypes: float64(2), object(11)\n",
      "memory usage: 260.6+ MB\n"
     ]
    }
   ],
   "source": [
    "NY511.info() #2627317 entries"
   ]
  },
  {
   "cell_type": "code",
   "execution_count": 22,
   "id": "2f28f421",
   "metadata": {},
   "outputs": [],
   "source": [
    "#List of counties with confirmed Brood 5 (2016) and Brood 8 (2018) sightings\n",
    "NYcounties = ['Cayuga', 'Onondaga', 'Livingston','Suffolk']"
   ]
  },
  {
   "cell_type": "code",
   "execution_count": 23,
   "id": "28e09697",
   "metadata": {},
   "outputs": [],
   "source": [
    "#New DataFrame with relevant counties only\n",
    "NY511_trim = NY511[(NY511['County'].isin(NYcounties))]"
   ]
  },
  {
   "cell_type": "markdown",
   "id": "232a3837",
   "metadata": {},
   "source": [
    "## Getting Relevant Traffic Incident Types\n"
   ]
  },
  {
   "cell_type": "code",
   "execution_count": 81,
   "id": "f38e26c6",
   "metadata": {},
   "outputs": [
    {
     "data": {
      "text/plain": [
       "array(['specialevents', 'construction', 'guard rail repairs',\n",
       "       'expansion joint repairs', 'roadwork', 'bridge work',\n",
       "       'overhead sign repair', 'roving repairs', 'accident', 'incident',\n",
       "       'pothole repairs', 'drainage improvements', 'line striping',\n",
       "       'construction, culvert repairs', 'milling, repaving',\n",
       "       'disabled vehicle', 'pothole repair', 'road sweeping',\n",
       "       'deck work, expansion joint repairs', 'disabled tractor trailer',\n",
       "       'road rehabilitation', 'overturned vehicle', 'steel repairs',\n",
       "       'traffic signal repairs', 'deck work',\n",
       "       'police department activity', 'emergency construction',\n",
       "       'downed tree', 'bridge rehabilitation, line striping',\n",
       "       'guard rail repairs, installation of sign structure, pothole repair, roadwork',\n",
       "       'vehicle fire', 'culvert repairs', 'bridge rehabilitation',\n",
       "       'delays, stop and go traffic',\n",
       "       'installation of conduits, vms repairs', 'milling',\n",
       "       'delays, earlier incident', 'repaving', 'accident road closed',\n",
       "       'debris spill', 'truck fire', 'special event', 'flooding',\n",
       "       'earlier incident', 'tree trimming', 'mowing',\n",
       "       'accident with injuries', 'accident investigation',\n",
       "       'street sweeping', 'installation of sign structure',\n",
       "       'installation of traffic monitoring systems',\n",
       "       'installation of conduits', 'survey work',\n",
       "       'construction, road sweeping', 'utility work', 'fair',\n",
       "       'renovation', 'bridge painting', 'accident, delays',\n",
       "       'fire department activity', 'other', 'delays',\n",
       "       'accident, jack-knifed tractor trailer',\n",
       "       'culvert repairs, guard rail repairs, installation of sign structure',\n",
       "       'gas main break', 'attenuator repairs',\n",
       "       'longterm construction, repaving',\n",
       "       'deck work, longterm construction', 'crack sealing',\n",
       "       'accident, downed wires', 'brush fire', 'fuel spill',\n",
       "       'construction, mowing', 'midday roadwork',\n",
       "       'installation of traffic management systems',\n",
       "       'construction, fire department activity', 'disabled bus',\n",
       "       'emergency repairs', 'disabled truck',\n",
       "       'downed pole, downed wires, overturned vehicle',\n",
       "       'speed restriction', 'plate repairs', 'watermain break',\n",
       "       'plowing and salting, roving repairs', 'plowing and salting',\n",
       "       'tractor trailer fire', 'downed wires, downed pole',\n",
       "       'pedestrian accident', 'misplaced tractor trailer', 'ems activity',\n",
       "       'downed pole', 'guard rail repairs, roadwork',\n",
       "       'watermain break repairs', 'installation of fiber optics',\n",
       "       'fence repairs', 'accident, disabled vehicle',\n",
       "       'construction, roving repairs',\n",
       "       'bridge replacement, longterm construction',\n",
       "       'bridge replacement, overnight roadwork',\n",
       "       'construction, drainage improvements, intersection improvements, reconstruction',\n",
       "       'longterm construction', 'fence repairs, roadwork',\n",
       "       'bridge work, steel repairs', 'bridge work, construction',\n",
       "       'delays, stop and go traffic, traffic congestion',\n",
       "       'construction cancelled, pothole repair', 'bus fire', 'sinkhole',\n",
       "       'cctv repairs', 'overturned truck',\n",
       "       'debris spill, earlier incident', 'repaving, roadwork',\n",
       "       'accident, overturned tractor trailer', 'pothole repair, roadwork',\n",
       "       'accident, emergency maintenance', 'accident, downed pole',\n",
       "       'intersection improvements', 'drainage improvements, roadwork',\n",
       "       'concert', 'festival', 'barrier repairs',\n",
       "       'accident with property damage', 'stuck gates',\n",
       "       'bridge cable repairs, mowing', 'deck work, emergency repairs',\n",
       "       'power problems', 'bridge replacement', 'golf tournament', 'race',\n",
       "       'overnight roadwork', 'rough road',\n",
       "       'bridge work, drainage improvements', 'operational activity',\n",
       "       'structure repairs', 'bridge work, repaving',\n",
       "       'delays, heavy traffic', 'overturned tractor trailer',\n",
       "       'overhead sign repair, survey work', 'downed wires',\n",
       "       'overnight roadwork, utility work', 'truck restrictions',\n",
       "       'jack-knifed tractor trailer', 'emergency repairs, line striping',\n",
       "       'emergency construction, pothole repairs',\n",
       "       'emergency repairs, pothole repair', 'signal problem',\n",
       "       'snow removal', 'malfunctioning traffic light',\n",
       "       'bridge rehabilitation, longterm construction',\n",
       "       'downed pole, downed wires', 'test message',\n",
       "       'fuel spill, overturned truck', 'wet pavement', 'vms repairs',\n",
       "       'bridge rehabilitation, overnight roadwork',\n",
       "       'misplaced commercial vehicle',\n",
       "       'drainage improvements, milling, repaving',\n",
       "       'accident, overturned truck',\n",
       "       'installation of sign structure, roadwork',\n",
       "       'construction, line striping', 'minor delays',\n",
       "       'rubbernecking delays', 'stop and go traffic, traffic congestion',\n",
       "       'milling, pothole repair', 'accident, debris spill',\n",
       "       'reconstruction, road rehabilitation', 'reconstruction',\n",
       "       'parking related, transit related incident',\n",
       "       'culvert repairs, roadwork', 'bridge work, longterm construction',\n",
       "       'bridge work, guard rail repairs', 'delays, vehicle fire',\n",
       "       'building fire', 'bridge painting, overnight roadwork',\n",
       "       'milling, roadwork',\n",
       "       'drainage improvements, guard rail repairs, roadwork',\n",
       "       'bridge work, overnight roadwork', 'falling ice',\n",
       "       'guard rail repairs, utility work',\n",
       "       'pothole repairs, roving repairs', 'missing sewer grate',\n",
       "       'accident with injuries, other',\n",
       "       'delays, heavy traffic, stop and go traffic', 'weather related',\n",
       "       'delays, other', 'line striping, repaving',\n",
       "       'guard rail repairs, mowing', 'line striping, overnight roadwork',\n",
       "       'traffic congestion, other', 'jack-knifed tractor trailer, other',\n",
       "       'bridge cable repairs', 'bridge work, deck work',\n",
       "       'crane operations', 'roadwork, structure repairs',\n",
       "       'construction, pothole repair', 'special event, speed restriction',\n",
       "       'bridge demolition', 'road maintenance operations',\n",
       "       'debris on roadway', 'stop and go traffic',\n",
       "       'milling, repaving, traffic signal repairs', 'incident cleared',\n",
       "       'accident cleared', 'slow traffic', 'injury accident',\n",
       "       'vehicle on fire',\n",
       "       'installation of sign structure, line striping, traffic signal repairs',\n",
       "       'road widening', 'police directing traffic',\n",
       "       'information available via internet', 'noise wall construction',\n",
       "       'road construction', 'emergency construction, roadwork',\n",
       "       'ramp widening', 'rescue and recovery work in progress',\n",
       "       'snowplows', 'accident investigation, pedestrian accident',\n",
       "       'falling debris', 'slow moving maintenance vehicle',\n",
       "       'bridge work, emergency repairs', 'scheduled roadwork',\n",
       "       'safety improvements', 'other special event', 'right lane closed',\n",
       "       'obstruction on roadway', 'disabled semi trailer',\n",
       "       'construction, street sweeping', 'bridge rehabilitation, roadwork',\n",
       "       'bridge demolition, roadwork', 'bridge painting, roadwork',\n",
       "       'reduced to one lane', 'object on roadway',\n",
       "       'right shoulder closed', 'left lane closed'], dtype=object)"
      ]
     },
     "execution_count": 81,
     "metadata": {},
     "output_type": "execute_result"
    }
   ],
   "source": [
    "NY511_trim['Event Type'].unique()"
   ]
  },
  {
   "cell_type": "code",
   "execution_count": 82,
   "id": "10572a5a",
   "metadata": {},
   "outputs": [],
   "source": [
    "#Relevant'Event Type' values to keep\n",
    "#assumptions made: These are unplanned events typically caused by human(s) action.  \n",
    "road_events=['accident', 'incident', 'delays, stop and go traffic', \n",
    "'delays, earlier incident', 'debris spill', 'earlier incident', 'special event', \n",
    "'accident, delays', 'delays', 'accident road closed', 'downed wires, downed pole', 'downed pole',\n",
    "'accident, disabled vehicle', 'delays, stop and go traffic, traffic congestion',\n",
    "'debris spill, earlier incident', 'accident, overturned tractor trailer', 'accident, emergency maintenance', \n",
    "'delays, heavy traffic', 'overturned tractor trailer', 'accident, jack-knifed tractor trailer', \n",
    "'jack-knifed tractor trailer', 'accident, overturned truck', 'overturned truck', 'stop and go traffic, traffic congestion',\n",
    "'rubbernecking delays', 'accident, debris spill']\n"
   ]
  },
  {
   "cell_type": "code",
   "execution_count": 83,
   "id": "73b7fb7b",
   "metadata": {},
   "outputs": [],
   "source": [
    "#trim dataframe to match the list of indivents/event types\n",
    "NY511_trim = NY511_trim[(NY511_trim['Event Type'].isin(road_events))]"
   ]
  },
  {
   "cell_type": "code",
   "execution_count": 84,
   "id": "82ff7f41",
   "metadata": {},
   "outputs": [
    {
     "name": "stdout",
     "output_type": "stream",
     "text": [
      "<class 'pandas.core.frame.DataFrame'>\n",
      "Int64Index: 19497 entries, 55011 to 1272921\n",
      "Data columns (total 13 columns):\n",
      " #   Column                      Non-Null Count  Dtype         \n",
      "---  ------                      --------------  -----         \n",
      " 0   Event Type                  19497 non-null  object        \n",
      " 1   Organization Name           19497 non-null  object        \n",
      " 2   Facility Name               19497 non-null  object        \n",
      " 3   Direction                   18624 non-null  object        \n",
      " 4   City                        18399 non-null  object        \n",
      " 5   County                      19497 non-null  object        \n",
      " 6   State                       19497 non-null  object        \n",
      " 7   Create Time                 19497 non-null  datetime64[ns]\n",
      " 8   Close Time                  19282 non-null  object        \n",
      " 9   Event Description           19497 non-null  object        \n",
      " 10  Responding Organization Id  19497 non-null  object        \n",
      " 11  Latitude                    19497 non-null  float64       \n",
      " 12  Longitude                   19497 non-null  float64       \n",
      "dtypes: datetime64[ns](1), float64(2), object(10)\n",
      "memory usage: 2.1+ MB\n"
     ]
    }
   ],
   "source": [
    "NY511_trim.info()  #55011 entries"
   ]
  },
  {
   "cell_type": "markdown",
   "id": "654d077b",
   "metadata": {},
   "source": [
    "## Getting Relevant Years and Months"
   ]
  },
  {
   "cell_type": "code",
   "execution_count": 131,
   "id": "787edeb5",
   "metadata": {},
   "outputs": [],
   "source": [
    "#convert times to datetimes\n",
    "NY511_trim['Create Time'] = pd.to_datetime(NY511_trim['Create Time'])"
   ]
  },
  {
   "cell_type": "code",
   "execution_count": 132,
   "id": "02957769",
   "metadata": {},
   "outputs": [],
   "source": [
    "#Periodical cicadas are confirmed in NY for Brood 5 (2016) and Brood 8 (2018) - trimmed extra years out.  Keep 2015, 2016, 2017, 2018, 2019.\n",
    "NY511_trim = NY511_trim[NY511_trim['Create Time'] > dt.datetime(2015,1,1)]\n",
    "NY511_trim = NY511_trim[NY511_trim['Create Time'] < dt.datetime(2020,1,1)]"
   ]
  },
  {
   "cell_type": "code",
   "execution_count": 133,
   "id": "ae7f140a",
   "metadata": {},
   "outputs": [
    {
     "name": "stdout",
     "output_type": "stream",
     "text": [
      "<class 'pandas.core.frame.DataFrame'>\n",
      "Int64Index: 19497 entries, 55011 to 1272921\n",
      "Data columns (total 14 columns):\n",
      " #   Column                      Non-Null Count  Dtype         \n",
      "---  ------                      --------------  -----         \n",
      " 0   Event Type                  19497 non-null  object        \n",
      " 1   Organization Name           19497 non-null  object        \n",
      " 2   Facility Name               19497 non-null  object        \n",
      " 3   Direction                   18624 non-null  object        \n",
      " 4   City                        18399 non-null  object        \n",
      " 5   County                      19497 non-null  object        \n",
      " 6   State                       19497 non-null  object        \n",
      " 7   Create Time                 19497 non-null  datetime64[ns]\n",
      " 8   Close Time                  19282 non-null  object        \n",
      " 9   Event Description           19497 non-null  object        \n",
      " 10  Responding Organization Id  19497 non-null  object        \n",
      " 11  Latitude                    19497 non-null  float64       \n",
      " 12  Longitude                   19497 non-null  float64       \n",
      " 13  Date                        19497 non-null  object        \n",
      "dtypes: datetime64[ns](1), float64(2), object(11)\n",
      "memory usage: 2.2+ MB\n"
     ]
    }
   ],
   "source": [
    "NY511_trim.info() #19497 entries.  Jan 2015 - Jan 2020"
   ]
  },
  {
   "cell_type": "code",
   "execution_count": 13,
   "id": "b851644a",
   "metadata": {},
   "outputs": [],
   "source": [
    "#ATTEMPT 1:\n",
    "#Reducing records to May and June of the years 2015, 2016, 2017, 2018, 2019.  Cicada months.\n",
    "\n",
    "\n",
    "NY511_trimtest = (NY511_trim['Create Time'].dt.month == 5) & (NY511_trim['Create Time'].dt.month == 6)\n",
    "NY511_trimtest.tail(60) \n",
    "\n",
    "# returns 'False' instead of row values..."
   ]
  },
  {
   "cell_type": "code",
   "execution_count": 134,
   "id": "f086da52",
   "metadata": {},
   "outputs": [],
   "source": [
    "#Breaking apart the datetime to date and time (don't need to include the time)\n",
    "#df['new_date'] = [d.date() for d in df['my_timestamp']]\n",
    "NY511_trim['Date'] = [d.date() for d in NY511_trim['Create Time']]"
   ]
  },
  {
   "cell_type": "code",
   "execution_count": 135,
   "id": "ce8eda6f",
   "metadata": {},
   "outputs": [
    {
     "name": "stderr",
     "output_type": "stream",
     "text": [
      "<ipython-input-135-ae078b57c5f1>:5: UserWarning: Boolean Series key will be reindexed to match DataFrame index.\n",
      "  NY511_2015 = NY511_2015[NY511_trim['Create Time'] < dt.datetime(2015,6,30)]\n"
     ]
    }
   ],
   "source": [
    "#Attempt 2:\n",
    "##Reducing records to May and June of the years 2015, 2016, 2017, 2018, 2019.  Cicada months.\n",
    "\n",
    "NY511_2015 = NY511_trim[NY511_trim['Create Time'] > dt.datetime(2015,5,1)]\n",
    "NY511_2015 = NY511_2015[NY511_trim['Create Time'] < dt.datetime(2015,6,30)]"
   ]
  },
  {
   "cell_type": "code",
   "execution_count": 136,
   "id": "0aabb0cd",
   "metadata": {},
   "outputs": [
    {
     "name": "stdout",
     "output_type": "stream",
     "text": [
      "<class 'pandas.core.frame.DataFrame'>\n",
      "Int64Index: 474 entries, 1207693 to 1252169\n",
      "Data columns (total 14 columns):\n",
      " #   Column                      Non-Null Count  Dtype         \n",
      "---  ------                      --------------  -----         \n",
      " 0   Event Type                  474 non-null    object        \n",
      " 1   Organization Name           474 non-null    object        \n",
      " 2   Facility Name               474 non-null    object        \n",
      " 3   Direction                   452 non-null    object        \n",
      " 4   City                        425 non-null    object        \n",
      " 5   County                      474 non-null    object        \n",
      " 6   State                       474 non-null    object        \n",
      " 7   Create Time                 474 non-null    datetime64[ns]\n",
      " 8   Close Time                  473 non-null    object        \n",
      " 9   Event Description           474 non-null    object        \n",
      " 10  Responding Organization Id  474 non-null    object        \n",
      " 11  Latitude                    474 non-null    float64       \n",
      " 12  Longitude                   474 non-null    float64       \n",
      " 13  Date                        474 non-null    object        \n",
      "dtypes: datetime64[ns](1), float64(2), object(11)\n",
      "memory usage: 55.5+ KB\n"
     ]
    }
   ],
   "source": [
    "NY511_2015.info() #474 entries"
   ]
  },
  {
   "cell_type": "code",
   "execution_count": 137,
   "id": "29d125db",
   "metadata": {},
   "outputs": [],
   "source": [
    "NY511_2016 = NY511_trim[NY511_trim['Create Time'] > dt.datetime(2016,5,1)]\n",
    "NY511_2016 = NY511_2016[NY511_2016['Create Time'] < dt.datetime(2016,6,30)]"
   ]
  },
  {
   "cell_type": "code",
   "execution_count": 122,
   "id": "50c8bdd8",
   "metadata": {},
   "outputs": [
    {
     "name": "stdout",
     "output_type": "stream",
     "text": [
      "<class 'pandas.core.frame.DataFrame'>\n",
      "Int64Index: 1176 entries, 829109 to 920702\n",
      "Data columns (total 14 columns):\n",
      " #   Column                      Non-Null Count  Dtype         \n",
      "---  ------                      --------------  -----         \n",
      " 0   Event Type                  1176 non-null   object        \n",
      " 1   Organization Name           1176 non-null   object        \n",
      " 2   Facility Name               1176 non-null   object        \n",
      " 3   Direction                   1115 non-null   object        \n",
      " 4   City                        1044 non-null   object        \n",
      " 5   County                      1176 non-null   object        \n",
      " 6   State                       1176 non-null   object        \n",
      " 7   Create Time                 1176 non-null   datetime64[ns]\n",
      " 8   Close Time                  1174 non-null   object        \n",
      " 9   Event Description           1176 non-null   object        \n",
      " 10  Responding Organization Id  1176 non-null   object        \n",
      " 11  Latitude                    1176 non-null   float64       \n",
      " 12  Longitude                   1176 non-null   float64       \n",
      " 13  Date                        1176 non-null   object        \n",
      "dtypes: datetime64[ns](1), float64(2), object(11)\n",
      "memory usage: 137.8+ KB\n"
     ]
    }
   ],
   "source": [
    "NY511_2016.info() #1176 entries"
   ]
  },
  {
   "cell_type": "code",
   "execution_count": 138,
   "id": "9d946f8e",
   "metadata": {},
   "outputs": [
    {
     "name": "stderr",
     "output_type": "stream",
     "text": [
      "<ipython-input-138-da6f987a6b93>:2: UserWarning: Boolean Series key will be reindexed to match DataFrame index.\n",
      "  NY511_2017 = NY511_2017[NY511_trim['Create Time'] < dt.datetime(2017,6,30)]\n"
     ]
    }
   ],
   "source": [
    "NY511_2017 = NY511_trim[NY511_trim['Create Time'] > dt.datetime(2017,5,1)]\n",
    "NY511_2017 = NY511_2017[NY511_trim['Create Time'] < dt.datetime(2017,6,30)]"
   ]
  },
  {
   "cell_type": "code",
   "execution_count": 124,
   "id": "36547269",
   "metadata": {},
   "outputs": [
    {
     "name": "stdout",
     "output_type": "stream",
     "text": [
      "<class 'pandas.core.frame.DataFrame'>\n",
      "Int64Index: 753 entries, 573156 to 619589\n",
      "Data columns (total 14 columns):\n",
      " #   Column                      Non-Null Count  Dtype         \n",
      "---  ------                      --------------  -----         \n",
      " 0   Event Type                  753 non-null    object        \n",
      " 1   Organization Name           753 non-null    object        \n",
      " 2   Facility Name               753 non-null    object        \n",
      " 3   Direction                   719 non-null    object        \n",
      " 4   City                        740 non-null    object        \n",
      " 5   County                      753 non-null    object        \n",
      " 6   State                       753 non-null    object        \n",
      " 7   Create Time                 753 non-null    datetime64[ns]\n",
      " 8   Close Time                  752 non-null    object        \n",
      " 9   Event Description           753 non-null    object        \n",
      " 10  Responding Organization Id  753 non-null    object        \n",
      " 11  Latitude                    753 non-null    float64       \n",
      " 12  Longitude                   753 non-null    float64       \n",
      " 13  Date                        753 non-null    object        \n",
      "dtypes: datetime64[ns](1), float64(2), object(11)\n",
      "memory usage: 88.2+ KB\n"
     ]
    }
   ],
   "source": [
    "NY511_2017.info() #753 entries"
   ]
  },
  {
   "cell_type": "code",
   "execution_count": 139,
   "id": "758f3503",
   "metadata": {},
   "outputs": [
    {
     "name": "stderr",
     "output_type": "stream",
     "text": [
      "<ipython-input-139-0d3dcf07edf6>:2: UserWarning: Boolean Series key will be reindexed to match DataFrame index.\n",
      "  NY511_2018 = NY511_2018[NY511_trim['Create Time'] < dt.datetime(2018,6,30)]\n"
     ]
    }
   ],
   "source": [
    "NY511_2018 = NY511_trim[NY511_trim['Create Time'] > dt.datetime(2018,5,1)]\n",
    "NY511_2018 = NY511_2018[NY511_trim['Create Time'] < dt.datetime(2018,6,30)]"
   ]
  },
  {
   "cell_type": "code",
   "execution_count": 103,
   "id": "6ef6405b",
   "metadata": {},
   "outputs": [
    {
     "name": "stdout",
     "output_type": "stream",
     "text": [
      "<class 'pandas.core.frame.DataFrame'>\n",
      "Int64Index: 737 entries, 321253 to 367478\n",
      "Data columns (total 13 columns):\n",
      " #   Column                      Non-Null Count  Dtype         \n",
      "---  ------                      --------------  -----         \n",
      " 0   Event Type                  737 non-null    object        \n",
      " 1   Organization Name           737 non-null    object        \n",
      " 2   Facility Name               737 non-null    object        \n",
      " 3   Direction                   723 non-null    object        \n",
      " 4   City                        713 non-null    object        \n",
      " 5   County                      737 non-null    object        \n",
      " 6   State                       737 non-null    object        \n",
      " 7   Create Time                 737 non-null    datetime64[ns]\n",
      " 8   Close Time                  734 non-null    object        \n",
      " 9   Event Description           737 non-null    object        \n",
      " 10  Responding Organization Id  737 non-null    object        \n",
      " 11  Latitude                    737 non-null    float64       \n",
      " 12  Longitude                   737 non-null    float64       \n",
      "dtypes: datetime64[ns](1), float64(2), object(10)\n",
      "memory usage: 80.6+ KB\n"
     ]
    }
   ],
   "source": [
    "NY511_2018.info()  #737 entries"
   ]
  },
  {
   "cell_type": "code",
   "execution_count": 140,
   "id": "714c0a23",
   "metadata": {},
   "outputs": [
    {
     "name": "stderr",
     "output_type": "stream",
     "text": [
      "<ipython-input-140-2511484711d7>:2: UserWarning: Boolean Series key will be reindexed to match DataFrame index.\n",
      "  NY511_2019 = NY511_2019[NY511_trim['Create Time'] < dt.datetime(2019,6,30)]\n"
     ]
    }
   ],
   "source": [
    "NY511_2019 = NY511_trim[NY511_trim['Create Time'] > dt.datetime(2019,5,1)]\n",
    "NY511_2019 = NY511_2019[NY511_trim['Create Time'] < dt.datetime(2019,6,30)]"
   ]
  },
  {
   "cell_type": "code",
   "execution_count": 105,
   "id": "4e8a69bb",
   "metadata": {},
   "outputs": [
    {
     "name": "stdout",
     "output_type": "stream",
     "text": [
      "<class 'pandas.core.frame.DataFrame'>\n",
      "Int64Index: 0 entries\n",
      "Data columns (total 13 columns):\n",
      " #   Column                      Non-Null Count  Dtype         \n",
      "---  ------                      --------------  -----         \n",
      " 0   Event Type                  0 non-null      object        \n",
      " 1   Organization Name           0 non-null      object        \n",
      " 2   Facility Name               0 non-null      object        \n",
      " 3   Direction                   0 non-null      object        \n",
      " 4   City                        0 non-null      object        \n",
      " 5   County                      0 non-null      object        \n",
      " 6   State                       0 non-null      object        \n",
      " 7   Create Time                 0 non-null      datetime64[ns]\n",
      " 8   Close Time                  0 non-null      object        \n",
      " 9   Event Description           0 non-null      object        \n",
      " 10  Responding Organization Id  0 non-null      object        \n",
      " 11  Latitude                    0 non-null      float64       \n",
      " 12  Longitude                   0 non-null      float64       \n",
      "dtypes: datetime64[ns](1), float64(2), object(10)\n",
      "memory usage: 0.0+ bytes\n"
     ]
    }
   ],
   "source": [
    "NY511_2019.info() #0 entries.  There might be a gap in the data. See below"
   ]
  },
  {
   "cell_type": "code",
   "execution_count": 1,
   "id": "1eec8c66",
   "metadata": {},
   "outputs": [
    {
     "ename": "NameError",
     "evalue": "name 'NY511_trim' is not defined",
     "output_type": "error",
     "traceback": [
      "\u001b[0;31m---------------------------------------------------------------------------\u001b[0m",
      "\u001b[0;31mNameError\u001b[0m                                 Traceback (most recent call last)",
      "\u001b[0;32m<ipython-input-1-0cb4b60dec68>\u001b[0m in \u001b[0;36m<module>\u001b[0;34m\u001b[0m\n\u001b[1;32m      1\u001b[0m \u001b[0;31m#Why no rows for 2019?\u001b[0m\u001b[0;34m\u001b[0m\u001b[0;34m\u001b[0m\u001b[0;34m\u001b[0m\u001b[0m\n\u001b[0;32m----> 2\u001b[0;31m \u001b[0mNY511_trim\u001b[0m\u001b[0;34m.\u001b[0m\u001b[0msort_values\u001b[0m\u001b[0;34m(\u001b[0m\u001b[0;34m'Create Time'\u001b[0m\u001b[0;34m,\u001b[0m \u001b[0mascending\u001b[0m\u001b[0;34m=\u001b[0m\u001b[0;32mFalse\u001b[0m\u001b[0;34m)\u001b[0m\u001b[0;34m\u001b[0m\u001b[0;34m\u001b[0m\u001b[0m\n\u001b[0m\u001b[1;32m      3\u001b[0m \u001b[0mNY511_trim\u001b[0m\u001b[0;34m.\u001b[0m\u001b[0mhead\u001b[0m\u001b[0;34m(\u001b[0m\u001b[0;36m1200\u001b[0m\u001b[0;34m)\u001b[0m\u001b[0;34m\u001b[0m\u001b[0;34m\u001b[0m\u001b[0m\n\u001b[1;32m      4\u001b[0m \u001b[0;31m#No rows between 2019-07-01 00:11:15 and 2019-04-03 07:56:17.  Data in data collection? Bug from my trimming?\u001b[0m\u001b[0;34m\u001b[0m\u001b[0;34m\u001b[0m\u001b[0;34m\u001b[0m\u001b[0m\n",
      "\u001b[0;31mNameError\u001b[0m: name 'NY511_trim' is not defined"
     ]
    }
   ],
   "source": [
    "#Why no rows for 2019?\n",
    "NY511_trim.sort_values('Create Time', ascending=False)\n",
    "NY511_trim.head(1200)\n",
    "#No rows between 2019-07-01 00:11:15 and 2019-04-03 07:56:17.  Data in data collection? Bug from my trimming?"
   ]
  },
  {
   "cell_type": "markdown",
   "id": "4b703444",
   "metadata": {},
   "source": [
    "---------------------------------"
   ]
  },
  {
   "cell_type": "markdown",
   "id": "b14571eb",
   "metadata": {},
   "source": [
    "--------------------------"
   ]
  },
  {
   "cell_type": "markdown",
   "id": "0b9502c8",
   "metadata": {},
   "source": [
    "## Export the data"
   ]
  },
  {
   "cell_type": "code",
   "execution_count": 144,
   "id": "255e4244",
   "metadata": {},
   "outputs": [],
   "source": [
    "## Bringing the yearly dataframes into a single dataframe\n",
    "\n",
    "years = [NY511_2015, NY511_2016, NY511_2017, NY511_2018, NY511_2019]\n",
    "NY511_final = pd.concat(years)"
   ]
  },
  {
   "cell_type": "code",
   "execution_count": 145,
   "id": "5f9c685b",
   "metadata": {},
   "outputs": [],
   "source": [
    "#Create a column specifically for the date\n",
    "\n",
    "NY511_final['Date'] = [d.date() for d in NY511_final['Create Time']]\n",
    "NY511_final['Date'] = pd.to_datetime(NY511_final['Date'])"
   ]
  },
  {
   "cell_type": "code",
   "execution_count": 146,
   "id": "488111e9",
   "metadata": {},
   "outputs": [],
   "source": [
    "#Save new dataframe as a csv\n",
    "NY511_final.to_csv('NY511_final.csv', index = False, header=True)"
   ]
  }
 ],
 "metadata": {
  "kernelspec": {
   "display_name": "Python 3",
   "language": "python",
   "name": "python3"
  },
  "language_info": {
   "codemirror_mode": {
    "name": "ipython",
    "version": 3
   },
   "file_extension": ".py",
   "mimetype": "text/x-python",
   "name": "python",
   "nbconvert_exporter": "python",
   "pygments_lexer": "ipython3",
   "version": "3.8.8"
  }
 },
 "nbformat": 4,
 "nbformat_minor": 5
}
