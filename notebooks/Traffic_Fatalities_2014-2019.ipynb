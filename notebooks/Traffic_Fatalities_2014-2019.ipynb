{
 "cells": [
  {
   "cell_type": "code",
   "execution_count": 1,
   "id": "46d4c247",
   "metadata": {},
   "outputs": [],
   "source": [
    "import pandas as pd\n",
    "import numpy as np\n",
    "import matplotlib.pyplot as plt\n",
    "import matplotlib.dates as mdates\n",
    "import datetime as dt\n",
    "import json\n",
    "import re"
   ]
  },
  {
   "cell_type": "code",
   "execution_count": 4,
   "id": "4b904f55",
   "metadata": {},
   "outputs": [],
   "source": [
    "#Read in the csv file\n",
    "traffic = pd.read_csv('../data/traffic_fatalities_county_month.csv', low_memory=False)"
   ]
  },
  {
   "cell_type": "code",
   "execution_count": 5,
   "id": "f265a647",
   "metadata": {},
   "outputs": [
    {
     "name": "stdout",
     "output_type": "stream",
     "text": [
      "<class 'pandas.core.frame.DataFrame'>\n",
      "RangeIndex: 10544 entries, 0 to 10543\n",
      "Data columns (total 6 columns):\n",
      " #   Column  Non-Null Count  Dtype \n",
      "---  ------  --------------  ----- \n",
      " 0   May     10544 non-null  int64 \n",
      " 1   June    10544 non-null  int64 \n",
      " 2   Total   10544 non-null  int64 \n",
      " 3   County  10544 non-null  object\n",
      " 4   State   10544 non-null  object\n",
      " 5   Year    10544 non-null  int64 \n",
      "dtypes: int64(4), object(2)\n",
      "memory usage: 494.4+ KB\n"
     ]
    }
   ],
   "source": [
    "traffic.info()"
   ]
  },
  {
   "cell_type": "markdown",
   "id": "d9f3d195",
   "metadata": {},
   "source": [
    "### Plan:\n",
    "1. create lists of counties with cicada sightings, by state\n",
    "2. use lists to create a new dataframe of fatalities by state for relevant/cicada counties, with a column for year\n",
    "3. Export for further analysis\n",
    "\n",
    "#One way to verify output matches list is LEN()"
   ]
  },
  {
   "cell_type": "markdown",
   "id": "fb26e8ed",
   "metadata": {},
   "source": [
    "## Creating dataframes for each emergence year"
   ]
  },
  {
   "cell_type": "code",
   "execution_count": 164,
   "id": "ad85c4be",
   "metadata": {},
   "outputs": [],
   "source": [
    "#Data for 2015 emergences of Brood XXIII and Brood IV\n",
    "traffic2015 = pd.concat([AL2015,AR2015,IL2015,IN2015,KY2015,LA2015,MS2015,MO2015_B23,TN2015, #<---Brood XXIII\n",
    "                        IA2015,KS2015,NE2015,MO2015_B04,TX2015#<---Brood IV\n",
    "                        ],axis=0)\n",
    "traffic2015 #320 rows\n",
    "traffic2015.to_csv('traffic2015.csv', index = False, header=True)"
   ]
  },
  {
   "cell_type": "code",
   "execution_count": 165,
   "id": "a01d4fbf",
   "metadata": {},
   "outputs": [],
   "source": [
    "#Data for 2016 emergences of Brood V\n",
    "traffic2016 =  pd.concat([WV2016, MD2016, PA2016,VA2016, OH2016, NY2016\n",
    "                        ],axis=0)\n",
    "traffic2016 #102 rows\n",
    "traffic2016.to_csv('traffic2016.csv', index = False, header=True)"
   ]
  },
  {
   "cell_type": "code",
   "execution_count": 169,
   "id": "4570301e",
   "metadata": {},
   "outputs": [],
   "source": [
    "##Data for 2017 emergence of Brood VI \n",
    "traffic2017 = pd.concat([GA2017, SC2017, NC2017],axis=0)\n",
    "traffic2017  #31 rows\n",
    "traffic2017.to_csv('traffic2017.csv', index = False, header=True)"
   ]
  },
  {
   "cell_type": "code",
   "execution_count": 170,
   "id": "80546ec6",
   "metadata": {},
   "outputs": [],
   "source": [
    "#Data for 2018 emergene of Brood VII\n",
    "traffic2018 = pd.concat([NY2018],axis=0) #Didn't actually need to concat here because only one county\n",
    "traffic2018 #7 rows\n",
    "\n",
    "###Noticing there will be no row for counties with zero fatalities in May/June.\n",
    "traffic2018.to_csv('traffic2018.csv', index = False, header=True)"
   ]
  },
  {
   "cell_type": "code",
   "execution_count": 171,
   "id": "6bea22c2",
   "metadata": {},
   "outputs": [],
   "source": [
    "#Data for 2019 emergence of Brood VIII\n",
    "traffic2019 = pd.concat([PA2019, OH2019, WV2019\n",
    "                        ],axis=0)\n",
    "traffic2019  #NO FATALITIES in WV for May/June\n",
    "\n",
    "traffic2019.to_csv('traffic2019.csv', index = False, header=True)"
   ]
  },
  {
   "cell_type": "markdown",
   "id": "c6628d50",
   "metadata": {},
   "source": [
    "# Using the county lists to get data for relevant counties and years"
   ]
  },
  {
   "cell_type": "code",
   "execution_count": 41,
   "id": "b89d31e7",
   "metadata": {},
   "outputs": [],
   "source": [
    "#The same county name can occur in more than one state. \n",
    "     ##Solve for making sure county matches state\n",
    "#Solve for getting cicada year plus previous and following year"
   ]
  },
  {
   "cell_type": "code",
   "execution_count": 157,
   "id": "7aa3ed6f",
   "metadata": {},
   "outputs": [],
   "source": [
    "#Lists of brood years, with the preceeding and following year\n",
    "\n",
    "#2015\n",
    "Brood23years=[2014,2015,2016,2017]\n",
    "BroodIVyears=[2014,2015,2016,2017]\n",
    "\n",
    "#2016\n",
    "BroodVyears=[2014,2015,2016,2017,2018]\n",
    "\n",
    "#2017\n",
    "BroodVIyears=[2015,2016,2017,2018,2019]\n",
    "\n",
    "#2018\n",
    "BroodVIIyears=[2015,2016,2017,2018,2019]\n",
    "\n",
    "#2019\n",
    "BroodVIIIyears=[2015,2016,2017,2018,2019]  #no 2020 data available (not sure it would be useful anyway because traffic was not normal)"
   ]
  },
  {
   "cell_type": "code",
   "execution_count": 158,
   "id": "5e1e1538",
   "metadata": {},
   "outputs": [],
   "source": [
    "##Brood23years / 2015 emergence\n",
    "\n",
    "#Alabama \n",
    "AL2015 = traffic[(traffic['County'].isin(AL_counties)) & (traffic['State'] == 'Alabama') & \n",
    "                 (traffic['Year'].isin(Brood23years))]\n",
    "\n",
    "#Arkansas\n",
    "AR2015 = traffic[(traffic['County'].isin(AR_counties)) & \n",
    "                 (traffic['State'] == 'Arkansas') & (traffic['Year'].isin(Brood23years))]\n",
    "#Illinois\n",
    "IL2015 = traffic[(traffic['County'].isin(IL_counties)) & \n",
    "                 (traffic['State'] == 'Illinois') & (traffic['Year'].isin(Brood23years))]\n",
    "\n",
    "#Indiana\n",
    "IN2015 = traffic[(traffic['County'].isin(IN_counties)) & \n",
    "                 (traffic['State'] == 'Indiana') & (traffic['Year'].isin(Brood23years))]\n",
    "\n",
    "#Kentucky\n",
    "KY2015 = traffic[(traffic['County'].isin(KY_counties)) & \n",
    "                 (traffic['State'] == 'Kentucky') & (traffic['Year'].isin(Brood23years))]\n",
    "\n",
    "#Louisiana\n",
    "LA2015 = traffic[(traffic['County'].isin(LA_counties)) & \n",
    "                 (traffic['State'] == 'Louisiana') & (traffic['Year'].isin(Brood23years))]\n",
    "\n",
    "#Mississippi\n",
    "MS2015 = traffic[(traffic['County'].isin(MS_counties)) & \n",
    "                 (traffic['State'] == 'Mississippi') & (traffic['Year'].isin(Brood23years))]\n",
    "\n",
    "#Missouri \n",
    "#distinguishing between broods 23 and 4, just in case I need it later\n",
    "MO2015_B23 = traffic[(traffic['County'].isin(MO_counties_B23)) & \n",
    "                 (traffic['State'] == 'Missouri') & (traffic['Year'].isin(Brood23years))]\n",
    "\n",
    "#Tennessee\n",
    "TN2015 = traffic[(traffic['County'].isin(TN_counties)) & \n",
    "                 (traffic['State'] == 'Tennessee') & (traffic['Year'].isin(Brood23years))]"
   ]
  },
  {
   "cell_type": "code",
   "execution_count": 159,
   "id": "0bdb38ba",
   "metadata": {},
   "outputs": [],
   "source": [
    "##BroodIVyears / 2015 emergence\n",
    "\n",
    "#Iowa\n",
    "IA2015 = traffic[(traffic['County'].isin(IA_counties)) & \n",
    "                 (traffic['State'] == 'Iowa') & (traffic['Year'].isin(BroodIVyears))]\n",
    "#Kansas\n",
    "KS2015 = traffic[(traffic['County'].isin(KS_counties)) & \n",
    "                 (traffic['State'] == 'Kansas') & (traffic['Year'].isin(BroodIVyears))]\n",
    "\n",
    "#Nebraksa\n",
    "NE2015 = traffic[(traffic['County'].isin(NE_counties)) & \n",
    "                 (traffic['State'] == 'Nebraska') & (traffic['Year'].isin(BroodIVyears))]\n",
    "#Oklahoma\n",
    "OK2015 = traffic[(traffic['County'].isin(OK_counties)) & \n",
    "                 (traffic['State'] == 'Oklahoma') & (traffic['Year'].isin(BroodIVyears))]\n",
    "\n",
    "#Missouri \n",
    "#distinguishing between broods 23 and 4, just in case i need it later\n",
    "MO2015_B04 = traffic[(traffic['County'].isin(MO_counties_B4)) & \n",
    "                 (traffic['State'] == 'Missouri') & (traffic['Year'].isin(BroodIVyears))]\n",
    "\n",
    "#Texas\n",
    "TX2015 = traffic[(traffic['County'].isin(TX_counties)) & \n",
    "                 (traffic['State'] == 'Texas') & (traffic['Year'].isin(BroodIVyears))]\n"
   ]
  },
  {
   "cell_type": "code",
   "execution_count": 160,
   "id": "1774d52b",
   "metadata": {},
   "outputs": [],
   "source": [
    "##Brood V / 2016 emergence\n",
    "\n",
    "#West Virgina\n",
    "WV2016 = traffic[(traffic['County'].isin(WV_counties_2016)) & \n",
    "                 (traffic['State'] == 'West Virgina') & (traffic['Year'].isin(BroodVyears))]\n",
    "\n",
    "#Maryland\n",
    "MD2016 = traffic[(traffic['County'].isin(MD_counties)) & \n",
    "                 (traffic['State'] == 'Maryland') & (traffic['Year'].isin(BroodVyears))]\n",
    "\n",
    "#Virginia\n",
    "VA2016 = traffic[(traffic['County'].isin(VA_counties)) & \n",
    "                 (traffic['State'] == 'Virgina') & (traffic['Year'].isin(BroodVyears))]\n",
    "\n",
    "#Pennsylvania\n",
    "PA2016 = traffic[(traffic['County'].isin(PA_counties_2016)) & \n",
    "                 (traffic['State'] == 'Pennsylvania') & (traffic['Year'].isin(BroodVyears))]\n",
    "\n",
    "#Ohio\n",
    "OH2016 = traffic[(traffic['County'].isin(OH_counties_2016)) & \n",
    "                 (traffic['State'] == 'Ohio') & (traffic['Year'].isin(BroodVyears))]\n",
    "\n",
    "#New York\n",
    "NY2016 = traffic[(traffic['County'].isin(NY_counties_2016)) & \n",
    "                 (traffic['State'] == 'New York') & (traffic['Year'].isin(BroodVyears))]"
   ]
  },
  {
   "cell_type": "code",
   "execution_count": 161,
   "id": "0f629eb7",
   "metadata": {},
   "outputs": [],
   "source": [
    "##Brood VI / 2017 emergence\n",
    "\n",
    "#Georgia\n",
    "GA2017 = traffic[(traffic['County'].isin(GA_counties)) & \n",
    "                 (traffic['State'] == 'Georgia') & (traffic['Year'].isin(BroodVIyears))]\n",
    "\n",
    "#South Carolina\n",
    "SC2017 = traffic[(traffic['County'].isin(SC_counties)) & \n",
    "                 (traffic['State'] == 'South Carolina') & (traffic['Year'].isin(BroodVIyears))]\n",
    "\n",
    "#North Carolina\n",
    "NC2017 = traffic[(traffic['County'].isin(NC_counties)) & \n",
    "                 (traffic['State'] == 'North Carolina') & (traffic['Year'].isin(BroodVIyears))]"
   ]
  },
  {
   "cell_type": "code",
   "execution_count": 162,
   "id": "3b4a446e",
   "metadata": {},
   "outputs": [],
   "source": [
    "##Brood VII / 2018 emergence\n",
    "\n",
    "#New York\n",
    "NY2018 = traffic[(traffic['County'].isin(NY_counties_2018)) & \n",
    "                 (traffic['State'] == 'New York') & (traffic['Year'].isin(BroodVIIyears))]"
   ]
  },
  {
   "cell_type": "code",
   "execution_count": 163,
   "id": "60eb37d5",
   "metadata": {},
   "outputs": [],
   "source": [
    "##Brood VIII / 2019 emergence\n",
    "\n",
    "#Pennsylvania\n",
    "PA2019 = traffic[(traffic['County'].isin(PA_counties_2019)) & \n",
    "                 (traffic['State'] == 'Pennsylvania') & (traffic['Year'].isin(BroodVIIIyears))]\n",
    "#Ohio\n",
    "OH2019 = traffic[(traffic['County'].isin(OH_counties_2019)) & \n",
    "                 (traffic['State'] == 'Ohio') & (traffic['Year'].isin(BroodVIIIyears))]\n",
    "\n",
    "#West Virginia\n",
    "WV2019 = traffic[(traffic['County'].isin(WV_counties_2019)) & \n",
    "                 (traffic['State'] == 'West Virgina') & (traffic['Year'].isin(BroodVIIIyears))]"
   ]
  },
  {
   "cell_type": "markdown",
   "id": "cacdea1e",
   "metadata": {},
   "source": [
    "# Creating lists of States and Cicada Counties"
   ]
  },
  {
   "cell_type": "markdown",
   "id": "f60cbbf7",
   "metadata": {},
   "source": [
    "### 2015: Brood XXIII"
   ]
  },
  {
   "cell_type": "code",
   "execution_count": 7,
   "id": "41ae866e",
   "metadata": {},
   "outputs": [],
   "source": [
    "#Alabama (Brood XXIII in 2015)\n",
    "AL_counties = ['Colbert', 'Lauderdale']"
   ]
  },
  {
   "cell_type": "code",
   "execution_count": 35,
   "id": "df65a1d7",
   "metadata": {},
   "outputs": [],
   "source": [
    "#Arkansas (Brood XXIII in 2015)\n",
    "AR_counties = ['Cross',\n",
    "    'Grant',\n",
    "    'Lonoke',\n",
    "    'Monroe',\n",
    "    'Poinsett',\n",
    "    'Prairie',\n",
    "    'Pulaksi',\n",
    "    'Saline',\n",
    "    'St. Francis']"
   ]
  },
  {
   "cell_type": "code",
   "execution_count": 36,
   "id": "215ad357",
   "metadata": {},
   "outputs": [],
   "source": [
    "#Illinois (Brood XXIII in 2015)\n",
    "IL_counties = ['Massac',\n",
    "'Alexander',\n",
    "'Union',\n",
    "'Johnson',\n",
    "'Pulaski',\n",
    "'Williamson',\n",
    "'Jackson',\n",
    "'Franklin',\n",
    "'Perry',\n",
    "'Randolph',\n",
    "'Monroe',\n",
    "'St Clair',\n",
    "'Washington',\n",
    "'Clinton',\n",
    "'De Witt',\n",
    "'Crawford',\n",
    "'Lawrence',\n",
    "'Wabash',\n",
    "'White']"
   ]
  },
  {
   "cell_type": "code",
   "execution_count": 44,
   "id": "6bb822b4",
   "metadata": {},
   "outputs": [],
   "source": [
    "#Indiana (Brood XXIII in 2015)\n",
    "IN_counties = ['Clay',\n",
    "'Gibson',\n",
    "'Knox',\n",
    "'Pike',\n",
    "'Posey',\n",
    "'Spencer',\n",
    "'Sullivan',\n",
    "'Vanderburgh',\n",
    "'Warrick']"
   ]
  },
  {
   "cell_type": "code",
   "execution_count": 75,
   "id": "4871d42f",
   "metadata": {},
   "outputs": [],
   "source": [
    "#Iowa counties (Brood IV in 2015)\n",
    "IA_counties = ['Adair',\n",
    "'Fremont',\n",
    "'Mills',\n",
    "'Montgomery',\n",
    "'Page',\n",
    "'Pottawattamie']"
   ]
  },
  {
   "cell_type": "code",
   "execution_count": 58,
   "id": "d6af1c4e",
   "metadata": {},
   "outputs": [],
   "source": [
    "#Kansas (Brood IV in 2015)\n",
    "KS_counties = ['Anderson',\n",
    "'Bourbon',\n",
    "'Brown',\n",
    "'Bulter',\n",
    "'Chase',\n",
    "'Chautauqua',\n",
    "'Cherokee',\n",
    "'Cowley',\n",
    "'Crawford',\n",
    "'Dickinson',\n",
    "'Douglas',\n",
    "'Ellsworth',\n",
    "'Geary',\n",
    "'Greenwood',\n",
    "'Harper',\n",
    "'Harvey',\n",
    "'Johnson',\n",
    "'Labette',\n",
    "'Leavenworth',\n",
    "'Linn',\n",
    "'Lyon',\n",
    "'Marion',\n",
    "'Marshall',\n",
    "'McPherson',\n",
    "'Miami',\n",
    "'Montgomery',\n",
    "'Morris',\n",
    "'Nemaha',\n",
    "'Neosho',\n",
    "'Oasge',\n",
    "'Ottawa',\n",
    "'Pottawatomie',\n",
    "'Riley',\n",
    "'Saline',\n",
    "'Sedgwick',\n",
    "'Shawnee',\n",
    "'Sumner',\n",
    "'Wabaunsee',\n",
    "'Wilson',\n",
    "'Wyandotte']"
   ]
  },
  {
   "cell_type": "code",
   "execution_count": 59,
   "id": "2d53447c",
   "metadata": {},
   "outputs": [],
   "source": [
    "#Kentucky (Brood VVIII in 2015)\n",
    "KY_counties = ['Ballard',\n",
    "'Calloway',\n",
    "'Carlisle',\n",
    "'Daviess',\n",
    "'Graves',\n",
    "'Henderson',\n",
    "'Livingston',\n",
    "'Marshall',\n",
    "'McCraken',\n",
    "'Trigg']"
   ]
  },
  {
   "cell_type": "code",
   "execution_count": 60,
   "id": "14c9ad77",
   "metadata": {},
   "outputs": [],
   "source": [
    "#Louisiana (Brood VVIII in 2015)\n",
    "LA_counties = ['Caldwell',\n",
    "'Grant',\n",
    "'Madison',\n",
    "'Morehouse',\n",
    "'Ouachita',\n",
    "'Rapides',\n",
    "'Richland']"
   ]
  },
  {
   "cell_type": "code",
   "execution_count": 78,
   "id": "25b2e0a3",
   "metadata": {},
   "outputs": [],
   "source": [
    "#Mississippi counties (Brood VVIII in 2015)\n",
    "MS_counties = ['Alcorn',\n",
    "'Amite',\n",
    "'Attala',\n",
    "'Benton',\n",
    "'Calhoun',\n",
    "'Carroll',\n",
    "'Chickasaw',\n",
    "'Choctaw',\n",
    "'Copiah',\n",
    "'Franklin',\n",
    "'Grenada',\n",
    "'Hinds',\n",
    "'Holmes',\n",
    "'Itawamba',\n",
    "'Lafayette',\n",
    "'Leake',\n",
    "'Lee',\n",
    "'Lincoln',\n",
    "'Madison',\n",
    "'Montgomery',\n",
    "'Panola',\n",
    "'Pike',\n",
    "'Pontotoc',\n",
    "'Prentiss',\n",
    "'Rankin',\n",
    "'Scott',\n",
    "'Simpson',\n",
    "'Tippah',\n",
    "'Tishomingo',\n",
    "'Webster',\n",
    "'Yalobusha']"
   ]
  },
  {
   "cell_type": "code",
   "execution_count": 77,
   "id": "892bbe84",
   "metadata": {},
   "outputs": [],
   "source": [
    "#Missouri counties (Brood IV in 2015)\n",
    "MO_counties_B4 = ['Andrew',\n",
    "'Atchison',\n",
    "'Bates',\n",
    "'Buchanan',\n",
    "'Caldwell',\n",
    "'Cass',\n",
    "'Clay',\n",
    "'Clinton',\n",
    "'Daviess',\n",
    "'Dekalb',\n",
    "'Gentry',\n",
    "'Grundy',\n",
    "'Harrison',\n",
    "'Henry',\n",
    "'Holt',\n",
    "'Jackson',\n",
    "'Johnson',\n",
    "'Lafayette',\n",
    "'Nodaway',\n",
    "'Platte',\n",
    "'St Clair',\n",
    "'Vernon',\n",
    "'Worth']"
   ]
  },
  {
   "cell_type": "code",
   "execution_count": 79,
   "id": "dbb7e0db",
   "metadata": {},
   "outputs": [],
   "source": [
    "#Missouri counties (Brood XXIII in 2015)\n",
    "MO_counties_B23 = ['Bollinger',\n",
    "'Cape Girardeau',\n",
    "'Mississippi',\n",
    "'Perry',\n",
    "'Stoddard']"
   ]
  },
  {
   "cell_type": "code",
   "execution_count": 80,
   "id": "f2c1b05e",
   "metadata": {},
   "outputs": [],
   "source": [
    "#Nebraska counties (Brood IV in 2015)\n",
    "NE_counties = ['Cass',\n",
    "'Douglas',\n",
    "'Nemaha',\n",
    "'Richardson',\n",
    "'Sarpy',\n",
    "'Washington']"
   ]
  },
  {
   "cell_type": "code",
   "execution_count": 65,
   "id": "8f64423e",
   "metadata": {},
   "outputs": [],
   "source": [
    "#Oklahoma (Brood IV in 2015)\n",
    "OK_counties = ['Bryan',\n",
    "'Canadian',\n",
    "'Carter',\n",
    "'Choctaw',\n",
    "'Comanche',\n",
    "'Craig',\n",
    "'Creek',\n",
    "'Garfield',\n",
    "'Grant',\n",
    "'Jefferson',\n",
    "'Kay',\n",
    "'Love',\n",
    "'Marshall',\n",
    "'Mayes',\n",
    "'McCurtain',\n",
    "'Noble',\n",
    "'Nowata',\n",
    "'Osage',\n",
    "'Payne',\n",
    "'Rogers',\n",
    "'Stephens',\n",
    "'Washington']"
   ]
  },
  {
   "cell_type": "code",
   "execution_count": 66,
   "id": "be2bb8c7",
   "metadata": {},
   "outputs": [],
   "source": [
    "#Tennessee (Brood XXIII in 2015)\n",
    "TN_counties = ['Benton',\n",
    "'Carroll',\n",
    "'Fayette',\n",
    "'Gibson',\n",
    "'Hardin',\n",
    "'Haywood',\n",
    "'Henderson',\n",
    "'Henry',\n",
    "'Henry',\n",
    "'Lauderdale',\n",
    "'Lewis',\n",
    "'Madison',\n",
    "'McKenzie',\n",
    "'Shelby',\n",
    "'Tipton',\n",
    "'Wayne']"
   ]
  },
  {
   "cell_type": "code",
   "execution_count": 67,
   "id": "da73f0f1",
   "metadata": {},
   "outputs": [],
   "source": [
    "#Texas (Brood IV in 2015)\n",
    "TX_counties = ['Delta',\n",
    "'Denton',\n",
    "'Fannin',\n",
    "'Grayson',\n",
    "'Hunt',\n",
    "'Lamar',\n",
    "'Montague',\n",
    "'Red River',\n",
    "'Wise']"
   ]
  },
  {
   "cell_type": "markdown",
   "id": "472573e8",
   "metadata": {},
   "source": [
    "### 2016: Brood V"
   ]
  },
  {
   "cell_type": "code",
   "execution_count": 91,
   "id": "cb1c8b49",
   "metadata": {},
   "outputs": [],
   "source": [
    "#West Virginia (Brood V in 2016)\n",
    "WV_counties_2016 = ['Barbour',\n",
    "'Braxton',\n",
    "'Brooke',\n",
    "'Calhoun',\n",
    "'Clay',\n",
    "'Doddridge',\n",
    "'Grant',\n",
    "'Hancock',\n",
    "'Hardy',\n",
    "'Harrison',\n",
    "'Jackson',\n",
    "'Lewis',\n",
    "'Marion',\n",
    "'Monongalia',\n",
    "'Nicholas',\n",
    "'Pleasants',\n",
    "'Preston',\n",
    "'Preston',\n",
    "'Roane',\n",
    "'Taylor',\n",
    "'Tyler',\n",
    "'Upshur',\n",
    "'Webster',\n",
    "'Wetzel',\n",
    "'Wood']"
   ]
  },
  {
   "cell_type": "code",
   "execution_count": 81,
   "id": "35eb1781",
   "metadata": {},
   "outputs": [],
   "source": [
    "#Maryland (Brood V in 2016)\n",
    "MD_counties = ['Garrett']"
   ]
  },
  {
   "cell_type": "code",
   "execution_count": 82,
   "id": "0f8bebe1",
   "metadata": {},
   "outputs": [],
   "source": [
    "#Virginia (Brood V in 2016)\n",
    "VA_counties = ['Bath',\n",
    "'Alleghany']"
   ]
  },
  {
   "cell_type": "code",
   "execution_count": 83,
   "id": "49c6db56",
   "metadata": {},
   "outputs": [],
   "source": [
    "#Pennsylvania (Brood V in 2016)\n",
    "PA_counties_2016 = ['Allegheny',\n",
    "'Carbon',\n",
    "'Fayette',\n",
    "'Greene',\n",
    "'Somerset',\n",
    "'Washington',\n",
    "'Westmoreland']"
   ]
  },
  {
   "cell_type": "code",
   "execution_count": 84,
   "id": "0bac5bb3",
   "metadata": {},
   "outputs": [],
   "source": [
    "#Ohio counties (Brood V in 2016)\n",
    "OH_counties_2016 = ['Ashland',\n",
    "'Ashtabula',\n",
    "'Athens',\n",
    "'Belmont',\n",
    "'Columbiana',\n",
    "'Coshocton',\n",
    "'Cuyahoga',\n",
    "'Fairfield',\n",
    "'Geauga',\n",
    "'Guernsey',\n",
    "'Harrison',\n",
    "'Hocking',\n",
    "'Huron',\n",
    "'Jackson',\n",
    "'Jefferson',\n",
    "'Knox',\n",
    "'Lake',\n",
    "'Licking',\n",
    "'Lorain',\n",
    "'Medina',\n",
    "'Meigs',\n",
    "'Morgan',\n",
    "'Muskingum',\n",
    "'Perry',\n",
    "'Pickaway',\n",
    "'Pike',\n",
    "'Richland',\n",
    "'Ross',\n",
    "'Scioto',\n",
    "'Seneca',\n",
    "'Summit',\n",
    "'Tuscarawas',\n",
    "'Vinton',\n",
    "'Washington']"
   ]
  },
  {
   "cell_type": "code",
   "execution_count": 90,
   "id": "635ad98e",
   "metadata": {},
   "outputs": [],
   "source": [
    "#New York counties (Brood V in 2016)\n",
    "NY_counties_2016 = ['Suffolk']"
   ]
  },
  {
   "cell_type": "markdown",
   "id": "dbabad47",
   "metadata": {},
   "source": [
    "### 2017: Brood VI"
   ]
  },
  {
   "cell_type": "code",
   "execution_count": 97,
   "id": "55732d17",
   "metadata": {},
   "outputs": [],
   "source": [
    "#Georgia (Brood VI in 2017)\n",
    "GA_counties = ['Rabun']"
   ]
  },
  {
   "cell_type": "code",
   "execution_count": 98,
   "id": "865df6a5",
   "metadata": {},
   "outputs": [],
   "source": [
    "#South Carolina (Brood VI in 2017)\n",
    "SC_counties =['Pickens',\n",
    "'Oconee']"
   ]
  },
  {
   "cell_type": "code",
   "execution_count": 134,
   "id": "2e495ff9",
   "metadata": {},
   "outputs": [],
   "source": [
    "#North Carolina (Brood VI in 2017)\n",
    "NC_counties = ['Buncombe',\n",
    "'Burke',\n",
    "'Caldwell',\n",
    "'Catawba',\n",
    "'Henderson',\n",
    "'McDowell',\n",
    "'Polk',\n",
    "'Rutherford',\n",
    "'Wilkes']"
   ]
  },
  {
   "cell_type": "markdown",
   "id": "ccb834ed",
   "metadata": {},
   "source": [
    "### 2018: Brood VII"
   ]
  },
  {
   "cell_type": "code",
   "execution_count": 135,
   "id": "71a0dfc1",
   "metadata": {},
   "outputs": [],
   "source": [
    "#New York counties (Brood VII in 2018)\n",
    "NY_counties_2018 = ['Cayuga',\n",
    "'Onondaga',\n",
    "'Livingston']"
   ]
  },
  {
   "cell_type": "markdown",
   "id": "fe341a68",
   "metadata": {},
   "source": [
    "### 2019: Brood VIII"
   ]
  },
  {
   "cell_type": "code",
   "execution_count": 128,
   "id": "2d50cd18",
   "metadata": {},
   "outputs": [],
   "source": [
    "#Pennsylvania (Brood VIII in 2019)\n",
    "PA_counties_2019 = ['Allegheny',\n",
    "'Armstrong',\n",
    "'Beaver',\n",
    "'Bulter',\n",
    "'Indiana',\n",
    "'Lawrence',\n",
    "'Mercer',\n",
    "'Venango',\n",
    "'Washington',\n",
    "'Westmoreland']"
   ]
  },
  {
   "cell_type": "code",
   "execution_count": 149,
   "id": "9d9f76e9",
   "metadata": {},
   "outputs": [],
   "source": [
    "#Ohio counties (Brood VIII in 2019)\n",
    "OH_counties_2019 = ['Carroll',\n",
    "'Columbiana',\n",
    "'Jefferson',\n",
    "'Mahoning',\n",
    "'Trumbull']"
   ]
  },
  {
   "cell_type": "code",
   "execution_count": 130,
   "id": "e8869039",
   "metadata": {},
   "outputs": [],
   "source": [
    "#West Virginia counties (Brood VIII in 2019)\n",
    "WV_counties_2019 = ['Hancock',\n",
    "'Brooke']"
   ]
  }
 ],
 "metadata": {
  "kernelspec": {
   "display_name": "Python 3",
   "language": "python",
   "name": "python3"
  },
  "language_info": {
   "codemirror_mode": {
    "name": "ipython",
    "version": 3
   },
   "file_extension": ".py",
   "mimetype": "text/x-python",
   "name": "python",
   "nbconvert_exporter": "python",
   "pygments_lexer": "ipython3",
   "version": "3.8.8"
  }
 },
 "nbformat": 4,
 "nbformat_minor": 5
}
