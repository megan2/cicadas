{
 "cells": [
  {
   "cell_type": "code",
   "execution_count": 1,
   "id": "1217e026",
   "metadata": {},
   "outputs": [],
   "source": [
    "import pandas as pd\n",
    "import numpy as np\n",
    "import matplotlib.pyplot as plt\n",
    "import matplotlib.dates as mdates\n",
    "import datetime as dt"
   ]
  },
  {
   "cell_type": "code",
   "execution_count": 2,
   "id": "706a607d",
   "metadata": {},
   "outputs": [],
   "source": [
    "#Read in the original csv file\n",
    "MD_traffic = pd.read_csv('../data/Maryland_Statewide_Vehicle_Crashes.csv', low_memory=False)\n",
    "\n",
    "#Data Source: https://opendata.maryland.gov/Public-Safety/Maryland-Statewide-Vehicle-Crashes/65du-s3qu"
   ]
  },
  {
   "cell_type": "code",
   "execution_count": 4,
   "id": "0fec4336",
   "metadata": {},
   "outputs": [
    {
     "name": "stdout",
     "output_type": "stream",
     "text": [
      "<class 'pandas.core.frame.DataFrame'>\n",
      "RangeIndex: 688042 entries, 0 to 688041\n",
      "Data columns (total 56 columns):\n",
      " #   Column                 Non-Null Count   Dtype  \n",
      "---  ------                 --------------   -----  \n",
      " 0   YEAR                   688042 non-null  int64  \n",
      " 1   QUARTER                688042 non-null  object \n",
      " 2   LIGHT_DESC             663424 non-null  object \n",
      " 3   LIGHT_CODE             688042 non-null  float64\n",
      " 4   COUNTY_DESC            688038 non-null  object \n",
      " 5   COUNTY_NO              688038 non-null  float64\n",
      " 6   MUNI_DESC              0 non-null       float64\n",
      " 7   MUNI_CODE              508067 non-null  float64\n",
      " 8   JUNCTION_DESC          596507 non-null  object \n",
      " 9   JUNCTION_CODE          618629 non-null  float64\n",
      " 10  COLLISION_TYPE_DESC    688042 non-null  object \n",
      " 11  COLLISION_TYPE_CODE    688042 non-null  int64  \n",
      " 12  SURF_COND_DESC         616520 non-null  object \n",
      " 13  SURF_COND_CODE         618629 non-null  float64\n",
      " 14  LANE_DESC              521692 non-null  object \n",
      " 15  LANE_CODE              521700 non-null  float64\n",
      " 16  RD_COND_DESC           618629 non-null  object \n",
      " 17  RD_COND_CODE           618629 non-null  float64\n",
      " 18  RD_DIV_DESC            614851 non-null  object \n",
      " 19  RD_DIV_CODE            618629 non-null  float64\n",
      " 20  FIX_OBJ_DESC           651157 non-null  object \n",
      " 21  FIX_OBJ_CODE           688042 non-null  float64\n",
      " 22  REPORT_NO              688042 non-null  object \n",
      " 23  REPORT_TYPE            577309 non-null  object \n",
      " 24  WEATHER_DESC           407218 non-null  object \n",
      " 25  WEATHER_CODE           688042 non-null  float64\n",
      " 26  ACC_DATE               688042 non-null  int64  \n",
      " 27  ACC_TIME               688042 non-null  object \n",
      " 28  LOC_CODE               321016 non-null  object \n",
      " 29  SIGNAL_FLAG_DESC       688042 non-null  object \n",
      " 30  SIGNAL_FLAG            688042 non-null  object \n",
      " 31  C_M_ZONE_FLAG          688042 non-null  object \n",
      " 32  AGENCY_CODE            688042 non-null  object \n",
      " 33  AREA_CODE              688042 non-null  object \n",
      " 34  HARM_EVENT_DESC1       92583 non-null   object \n",
      " 35  HARM_EVENT_CODE1       688042 non-null  float64\n",
      " 36  HARM_EVENT_DESC2       688042 non-null  object \n",
      " 37  HARM_EVENT_CODE2       688042 non-null  float64\n",
      " 38  RTE_NO                 550768 non-null  float64\n",
      " 39  ROUTE_TYPE_CODE        552529 non-null  object \n",
      " 40  RTE_SUFFIX             14032 non-null   object \n",
      " 41  LOG_MILE               615132 non-null  float64\n",
      " 42  LOGMILE_DIR_FLAG_DESC  555645 non-null  object \n",
      " 43  LOGMILE_DIR_FLAG       555653 non-null  object \n",
      " 44  MAINROAD_NAME          618622 non-null  object \n",
      " 45  DISTANCE               600093 non-null  float64\n",
      " 46  FEET_MILES_FLAG_DESC   130909 non-null  object \n",
      " 47  FEET_MILES_FLAG        618628 non-null  object \n",
      " 48  DISTANCE_DIR_FLAG      615251 non-null  object \n",
      " 49  REFERENCE_NO           543570 non-null  float64\n",
      " 50  REFERENCE_TYPE_CODE    552782 non-null  object \n",
      " 51  REFERENCE_SUFFIX       14779 non-null   object \n",
      " 52  REFERENCE_ROAD_NAME    618116 non-null  object \n",
      " 53  LATITUDE               688042 non-null  float64\n",
      " 54  LONGITUDE              688042 non-null  float64\n",
      " 55  LOCATION               688042 non-null  object \n",
      "dtypes: float64(19), int64(3), object(34)\n",
      "memory usage: 294.0+ MB\n"
     ]
    }
   ],
   "source": [
    "MD_traffic.info()\n",
    "#YEAR\n",
    "#COUNTY_DESC"
   ]
  },
  {
   "cell_type": "code",
   "execution_count": 5,
   "id": "55756664",
   "metadata": {},
   "outputs": [],
   "source": [
    "#trimming to the columns I care about\n",
    "#new = old[['A', 'C', 'D']].copy()\n",
    "\n",
    "MD_traffic1 = MD_traffic[['YEAR','COUNTY_DESC']].copy()"
   ]
  },
  {
   "cell_type": "code",
   "execution_count": 6,
   "id": "be79b8a1",
   "metadata": {},
   "outputs": [
    {
     "name": "stdout",
     "output_type": "stream",
     "text": [
      "<class 'pandas.core.frame.DataFrame'>\n",
      "RangeIndex: 688042 entries, 0 to 688041\n",
      "Data columns (total 2 columns):\n",
      " #   Column       Non-Null Count   Dtype \n",
      "---  ------       --------------   ----- \n",
      " 0   YEAR         688042 non-null  int64 \n",
      " 1   COUNTY_DESC  688038 non-null  object\n",
      "dtypes: int64(1), object(1)\n",
      "memory usage: 10.5+ MB\n"
     ]
    }
   ],
   "source": [
    "MD_traffic1.info()  #688042 rows with some NULLS"
   ]
  },
  {
   "cell_type": "code",
   "execution_count": 8,
   "id": "e1139250",
   "metadata": {},
   "outputs": [],
   "source": [
    "#Trim trim\n",
    "MD_counties = ['Garrett']\n",
    "MD_traffic2 = MD_traffic1[(MD_traffic1['COUNTY_DESC'].isin(MD_counties))]"
   ]
  },
  {
   "cell_type": "code",
   "execution_count": 10,
   "id": "38711cbc",
   "metadata": {},
   "outputs": [
    {
     "name": "stdout",
     "output_type": "stream",
     "text": [
      "<class 'pandas.core.frame.DataFrame'>\n",
      "Int64Index: 3157 entries, 72 to 687918\n",
      "Data columns (total 2 columns):\n",
      " #   Column       Non-Null Count  Dtype \n",
      "---  ------       --------------  ----- \n",
      " 0   YEAR         3157 non-null   int64 \n",
      " 1   COUNTY_DESC  3157 non-null   object\n",
      "dtypes: int64(1), object(1)\n",
      "memory usage: 74.0+ KB\n"
     ]
    }
   ],
   "source": [
    "MD_traffic2.info() #3157 rows, also must have dropped the NULLs - no NULLS"
   ]
  },
  {
   "cell_type": "code",
   "execution_count": 11,
   "id": "668e45e3",
   "metadata": {},
   "outputs": [],
   "source": [
    "## Export\n",
    "MD_traffic2.to_csv('MD_traffic_final.csv', index = False, header=True)"
   ]
  }
 ],
 "metadata": {
  "kernelspec": {
   "display_name": "Python 3",
   "language": "python",
   "name": "python3"
  },
  "language_info": {
   "codemirror_mode": {
    "name": "ipython",
    "version": 3
   },
   "file_extension": ".py",
   "mimetype": "text/x-python",
   "name": "python",
   "nbconvert_exporter": "python",
   "pygments_lexer": "ipython3",
   "version": "3.8.8"
  }
 },
 "nbformat": 4,
 "nbformat_minor": 5
}
