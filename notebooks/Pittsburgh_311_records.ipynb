{
 "cells": [
  {
   "cell_type": "code",
   "execution_count": 1,
   "id": "90524a15",
   "metadata": {},
   "outputs": [],
   "source": [
    "import pandas as pd\n",
    "import numpy as np\n",
    "import matplotlib.pyplot as plt\n",
    "import matplotlib.dates as mdates\n",
    "import datetime as dt\n",
    "import json\n",
    "import re"
   ]
  },
  {
   "cell_type": "code",
   "execution_count": 3,
   "id": "2524f255",
   "metadata": {},
   "outputs": [],
   "source": [
    "#Read in the original csv file\n",
    "Pitt311 = pd.read_csv('../data/Pittsburg311 data.csv', low_memory=False)"
   ]
  },
  {
   "cell_type": "code",
   "execution_count": null,
   "id": "4eae5fd2",
   "metadata": {},
   "outputs": [],
   "source": [
    "Pitt311.info()"
   ]
  },
  {
   "cell_type": "code",
   "execution_count": 5,
   "id": "4caf3c2d",
   "metadata": {},
   "outputs": [],
   "source": [
    "#convert times to datetimes\n",
    "Pitt311['CREATED_ON'] = pd.to_datetime(Pitt311['CREATED_ON'])"
   ]
  },
  {
   "cell_type": "code",
   "execution_count": 6,
   "id": "2d7d9c30",
   "metadata": {},
   "outputs": [],
   "source": [
    "#what is the date range covered in this current dataframe?\n",
    "Pitt311 = Pitt311.sort_values(['CREATED_ON'],ascending=True)\n",
    "#2/20/2015 - 5/22/2021"
   ]
  },
  {
   "cell_type": "code",
   "execution_count": 8,
   "id": "77ebff78",
   "metadata": {},
   "outputs": [
    {
     "data": {
      "text/html": [
       "<div>\n",
       "<style scoped>\n",
       "    .dataframe tbody tr th:only-of-type {\n",
       "        vertical-align: middle;\n",
       "    }\n",
       "\n",
       "    .dataframe tbody tr th {\n",
       "        vertical-align: top;\n",
       "    }\n",
       "\n",
       "    .dataframe thead th {\n",
       "        text-align: right;\n",
       "    }\n",
       "</style>\n",
       "<table border=\"1\" class=\"dataframe\">\n",
       "  <thead>\n",
       "    <tr style=\"text-align: right;\">\n",
       "      <th></th>\n",
       "      <th>REQUEST_ID</th>\n",
       "      <th>CREATED_ON</th>\n",
       "      <th>REQUEST_TYPE</th>\n",
       "      <th>REQUEST_ORIGIN</th>\n",
       "      <th>STATUS</th>\n",
       "      <th>DEPARTMENT</th>\n",
       "      <th>NEIGHBORHOOD</th>\n",
       "      <th>COUNCIL_DISTRICT</th>\n",
       "      <th>WARD</th>\n",
       "      <th>TRACT</th>\n",
       "      <th>PUBLIC_WORKS_DIVISION</th>\n",
       "      <th>PLI_DIVISION</th>\n",
       "      <th>POLICE_ZONE</th>\n",
       "      <th>FIRE_ZONE</th>\n",
       "      <th>X</th>\n",
       "      <th>Y</th>\n",
       "      <th>GEO_ACCURACY</th>\n",
       "    </tr>\n",
       "  </thead>\n",
       "  <tbody>\n",
       "    <tr>\n",
       "      <th>508239</th>\n",
       "      <td>526016.0</td>\n",
       "      <td>2021-05-22 15:39:00</td>\n",
       "      <td>Replace/Repair a Sign</td>\n",
       "      <td>Website</td>\n",
       "      <td>0</td>\n",
       "      <td>DOMI - TrafficShop</td>\n",
       "      <td>Carrick</td>\n",
       "      <td>4.0</td>\n",
       "      <td>29.0</td>\n",
       "      <td>4.200329e+10</td>\n",
       "      <td>3.0</td>\n",
       "      <td>29.0</td>\n",
       "      <td>3.0</td>\n",
       "      <td>4-23</td>\n",
       "      <td>-79.989618</td>\n",
       "      <td>40.396760</td>\n",
       "      <td>EXACT</td>\n",
       "    </tr>\n",
       "    <tr>\n",
       "      <th>508240</th>\n",
       "      <td>526017.0</td>\n",
       "      <td>2021-05-22 15:55:00</td>\n",
       "      <td>Parks Trails</td>\n",
       "      <td>Website</td>\n",
       "      <td>0</td>\n",
       "      <td>DPW - Park Maintenance</td>\n",
       "      <td>Squirrel Hill South</td>\n",
       "      <td>5.0</td>\n",
       "      <td>14.0</td>\n",
       "      <td>4.200398e+10</td>\n",
       "      <td>3.0</td>\n",
       "      <td>14.0</td>\n",
       "      <td>4.0</td>\n",
       "      <td>2-8</td>\n",
       "      <td>-79.942605</td>\n",
       "      <td>40.431075</td>\n",
       "      <td>EXACT</td>\n",
       "    </tr>\n",
       "    <tr>\n",
       "      <th>508242</th>\n",
       "      <td>526019.0</td>\n",
       "      <td>2021-05-22 16:28:00</td>\n",
       "      <td>Illegal Parking</td>\n",
       "      <td>Website</td>\n",
       "      <td>0</td>\n",
       "      <td>Police - Zones 1-6</td>\n",
       "      <td>Friendship</td>\n",
       "      <td>9.0</td>\n",
       "      <td>8.0</td>\n",
       "      <td>4.200308e+10</td>\n",
       "      <td>2.0</td>\n",
       "      <td>8.0</td>\n",
       "      <td>5.0</td>\n",
       "      <td>3-23</td>\n",
       "      <td>-79.933788</td>\n",
       "      <td>40.462582</td>\n",
       "      <td>APPROXIMATE</td>\n",
       "    </tr>\n",
       "    <tr>\n",
       "      <th>508241</th>\n",
       "      <td>526018.0</td>\n",
       "      <td>2021-05-22 16:28:00</td>\n",
       "      <td>CitiParks Programs</td>\n",
       "      <td>Website</td>\n",
       "      <td>0</td>\n",
       "      <td>Parks &amp; Recs-Programs</td>\n",
       "      <td>Squirrel Hill North</td>\n",
       "      <td>8.0</td>\n",
       "      <td>14.0</td>\n",
       "      <td>4.200314e+10</td>\n",
       "      <td>3.0</td>\n",
       "      <td>14.0</td>\n",
       "      <td>4.0</td>\n",
       "      <td>2-18</td>\n",
       "      <td>-79.923242</td>\n",
       "      <td>40.442697</td>\n",
       "      <td>APPROXIMATE</td>\n",
       "    </tr>\n",
       "    <tr>\n",
       "      <th>508243</th>\n",
       "      <td>526020.0</td>\n",
       "      <td>2021-05-22 17:09:00</td>\n",
       "      <td>Street Cleaning/Sweeping</td>\n",
       "      <td>Report2Gov iOS</td>\n",
       "      <td>0</td>\n",
       "      <td>DPW - Street Maintenance</td>\n",
       "      <td>Perry North</td>\n",
       "      <td>1.0</td>\n",
       "      <td>26.0</td>\n",
       "      <td>4.200398e+10</td>\n",
       "      <td>1.0</td>\n",
       "      <td>26.0</td>\n",
       "      <td>1.0</td>\n",
       "      <td>1-15</td>\n",
       "      <td>-80.022789</td>\n",
       "      <td>40.486198</td>\n",
       "      <td>EXACT</td>\n",
       "    </tr>\n",
       "  </tbody>\n",
       "</table>\n",
       "</div>"
      ],
      "text/plain": [
       "        REQUEST_ID          CREATED_ON              REQUEST_TYPE  \\\n",
       "508239    526016.0 2021-05-22 15:39:00     Replace/Repair a Sign   \n",
       "508240    526017.0 2021-05-22 15:55:00              Parks Trails   \n",
       "508242    526019.0 2021-05-22 16:28:00           Illegal Parking   \n",
       "508241    526018.0 2021-05-22 16:28:00        CitiParks Programs   \n",
       "508243    526020.0 2021-05-22 17:09:00  Street Cleaning/Sweeping   \n",
       "\n",
       "        REQUEST_ORIGIN  STATUS                DEPARTMENT         NEIGHBORHOOD  \\\n",
       "508239         Website       0        DOMI - TrafficShop              Carrick   \n",
       "508240         Website       0    DPW - Park Maintenance  Squirrel Hill South   \n",
       "508242         Website       0        Police - Zones 1-6           Friendship   \n",
       "508241         Website       0     Parks & Recs-Programs  Squirrel Hill North   \n",
       "508243  Report2Gov iOS       0  DPW - Street Maintenance          Perry North   \n",
       "\n",
       "        COUNCIL_DISTRICT  WARD         TRACT  PUBLIC_WORKS_DIVISION  \\\n",
       "508239               4.0  29.0  4.200329e+10                    3.0   \n",
       "508240               5.0  14.0  4.200398e+10                    3.0   \n",
       "508242               9.0   8.0  4.200308e+10                    2.0   \n",
       "508241               8.0  14.0  4.200314e+10                    3.0   \n",
       "508243               1.0  26.0  4.200398e+10                    1.0   \n",
       "\n",
       "        PLI_DIVISION  POLICE_ZONE FIRE_ZONE          X          Y GEO_ACCURACY  \n",
       "508239          29.0          3.0      4-23 -79.989618  40.396760        EXACT  \n",
       "508240          14.0          4.0       2-8 -79.942605  40.431075        EXACT  \n",
       "508242           8.0          5.0      3-23 -79.933788  40.462582  APPROXIMATE  \n",
       "508241          14.0          4.0      2-18 -79.923242  40.442697  APPROXIMATE  \n",
       "508243          26.0          1.0      1-15 -80.022789  40.486198        EXACT  "
      ]
     },
     "execution_count": 8,
     "metadata": {},
     "output_type": "execute_result"
    }
   ],
   "source": [
    "Pitt311.tail()"
   ]
  },
  {
   "cell_type": "code",
   "execution_count": 9,
   "id": "05e2c473",
   "metadata": {},
   "outputs": [],
   "source": [
    "#Periodical Cicadas are confirmed in Pittsburgh for Brood V (2016), but there are nearby confirmations \n",
    "#for Brood VIII (2019).  Including data around both years in this dataframe.\n",
    "Pitt311trim = Pitt311[Pitt311['CREATED_ON'] > dt.datetime(2015,5,1)]\n",
    "Pitt311trim = Pitt311trim[Pitt311trim['CREATED_ON'] < dt.datetime(2020,7,1)]"
   ]
  },
  {
   "cell_type": "code",
   "execution_count": null,
   "id": "15fa9b1a",
   "metadata": {},
   "outputs": [],
   "source": [
    "Pitt311trim.info()"
   ]
  },
  {
   "cell_type": "markdown",
   "id": "9fb35df2",
   "metadata": {},
   "source": [
    "# Isolating data to months of May and June for each year"
   ]
  },
  {
   "cell_type": "code",
   "execution_count": 10,
   "id": "b3865bd2",
   "metadata": {},
   "outputs": [],
   "source": [
    "#2015\n",
    "#8462 entries pre-cleaned\n",
    "Pitt3112015 = Pitt311trim[Pitt311trim['CREATED_ON'] > dt.datetime(2015,5,1)]\n",
    "Pitt3112015 = Pitt3112015[Pitt3112015['CREATED_ON'] < dt.datetime(2015,7,1)]"
   ]
  },
  {
   "cell_type": "code",
   "execution_count": null,
   "id": "70d2f4e5",
   "metadata": {},
   "outputs": [],
   "source": [
    "Pitt3112015.tail()"
   ]
  },
  {
   "cell_type": "code",
   "execution_count": 11,
   "id": "addd0340",
   "metadata": {},
   "outputs": [],
   "source": [
    "#2016 - cicada emergence year\n",
    "#16795 entries pre-cleaned\n",
    "Pitt3112016 = Pitt311trim[Pitt311trim['CREATED_ON'] > dt.datetime(2016,5,1)]\n",
    "Pitt3112016 = Pitt3112016[Pitt3112016['CREATED_ON'] < dt.datetime(2016,7,1)]"
   ]
  },
  {
   "cell_type": "code",
   "execution_count": 12,
   "id": "812f1bbe",
   "metadata": {},
   "outputs": [],
   "source": [
    "#2017\n",
    "#17100 entries pre-cleaned\n",
    "Pitt3112017 = Pitt311trim[Pitt311trim['CREATED_ON'] > dt.datetime(2017,5,1)]\n",
    "Pitt3112017 = Pitt3112017[Pitt3112017['CREATED_ON'] < dt.datetime(2017,7,1)]"
   ]
  },
  {
   "cell_type": "code",
   "execution_count": 13,
   "id": "b7bd757f",
   "metadata": {},
   "outputs": [],
   "source": [
    "#2018\n",
    "#20982 entries pre-cleaned\n",
    "Pitt3112018 = Pitt311trim[Pitt311trim['CREATED_ON'] > dt.datetime(2018,5,1)]\n",
    "Pitt3112018 = Pitt3112018[Pitt3112018['CREATED_ON'] < dt.datetime(2018,7,1)]"
   ]
  },
  {
   "cell_type": "code",
   "execution_count": 14,
   "id": "29ff3c9c",
   "metadata": {},
   "outputs": [],
   "source": [
    "#2019\n",
    "#19664 entries pre-cleaned\n",
    "Pitt3112019 = Pitt311trim[Pitt311trim['CREATED_ON'] > dt.datetime(2019,5,1)]\n",
    "Pitt3112019 = Pitt3112019[Pitt3112019['CREATED_ON'] < dt.datetime(2019,7,1)]"
   ]
  },
  {
   "cell_type": "code",
   "execution_count": 15,
   "id": "0d74f980",
   "metadata": {},
   "outputs": [],
   "source": [
    "#2020\n",
    "#15991 entries pre-cleaned\n",
    "Pitt3112020 = Pitt311trim[Pitt311trim['CREATED_ON'] > dt.datetime(2020,5,1)]\n",
    "Pitt3112020 = Pitt3112020[Pitt3112020['CREATED_ON'] < dt.datetime(2020,7,1)]"
   ]
  },
  {
   "cell_type": "code",
   "execution_count": 16,
   "id": "4ef44963",
   "metadata": {},
   "outputs": [],
   "source": [
    "#Bring them back to a single dataset\n",
    "years = [Pitt3112015, Pitt3112016, Pitt3112017, Pitt3112018, Pitt3112019, Pitt3112020]\n",
    "Pitt311_final = pd.concat(years)"
   ]
  },
  {
   "cell_type": "markdown",
   "id": "5e8eab16",
   "metadata": {},
   "source": [
    "## Getting relevant requests / types of calls"
   ]
  },
  {
   "cell_type": "code",
   "execution_count": null,
   "id": "e6a1ba7d",
   "metadata": {},
   "outputs": [],
   "source": [
    "Pitt311_final['REQUEST_TYPE'].unique()"
   ]
  },
  {
   "cell_type": "code",
   "execution_count": 18,
   "id": "88dd3f0a",
   "metadata": {},
   "outputs": [],
   "source": [
    "# What types of Phone Calls indicate bad behavior and/or an annoyed populace?\n",
    "relevant_requests = ['Litter',\n",
    "'Dumping (Private Property)/DO NOT USE',\n",
    "'Dumping, Private Property',\n",
    "'Refuse Violations',\n",
    "'Graffiti, Removal',\n",
    "'Graffiti, Documentation',\n",
    "'Illegal Dumping',\n",
    "'Dumpster (on Street)',\n",
    "'Missed Pick Up',\n",
    "'Abandoned Vehicle (parked on street)',\n",
    "'Excessive Noise/Disturbances',\n",
    "'Noise',\n",
    "'Building Without a Permit',\n",
    "'Barking Dog',\n",
    "'Unpermitted Electrical Work',\n",
    "'Weeds/Debris',\n",
    "'Illegal Parking',\n",
    "'Drug Enforcement',\n",
    "'Junk Vehicles',\n",
    "'Question',\n",
    "'Broken Sidewalk',\n",
    "'Replace/Repair a Sign',\n",
    "'Street Light - Repair',\n",
    "'Street Light - Request',\n",
    "'Request New Sign',\n",
    "'City Steps, Need Cleared',\n",
    "'Electrical Violation',\n",
    "'Loose Dog(s)',\n",
    "'Potholes',\n",
    "'Sidewalk Obstruction',\n",
    "'Paving Request',\n",
    "'Couch on Porch']"
   ]
  },
  {
   "cell_type": "code",
   "execution_count": null,
   "id": "706ebb19",
   "metadata": {},
   "outputs": [],
   "source": [
    "print(relevant_requests)"
   ]
  },
  {
   "cell_type": "code",
   "execution_count": 19,
   "id": "7953b5e3",
   "metadata": {},
   "outputs": [],
   "source": [
    "#trim dataframe to match the list of relevant request types\n",
    "\n",
    "Pitt311_final = Pitt311[(Pitt311['REQUEST_TYPE'].isin(relevant_requests))]"
   ]
  },
  {
   "cell_type": "code",
   "execution_count": null,
   "id": "cff16e28",
   "metadata": {},
   "outputs": [],
   "source": [
    "Pitt311_final"
   ]
  },
  {
   "cell_type": "markdown",
   "id": "1ae4e26a",
   "metadata": {},
   "source": [
    "## Adding a Date column and removing some extras"
   ]
  },
  {
   "cell_type": "code",
   "execution_count": 20,
   "id": "bef79967",
   "metadata": {},
   "outputs": [
    {
     "name": "stderr",
     "output_type": "stream",
     "text": [
      "<ipython-input-20-7eec6fdb62d3>:1: SettingWithCopyWarning: \n",
      "A value is trying to be set on a copy of a slice from a DataFrame.\n",
      "Try using .loc[row_indexer,col_indexer] = value instead\n",
      "\n",
      "See the caveats in the documentation: https://pandas.pydata.org/pandas-docs/stable/user_guide/indexing.html#returning-a-view-versus-a-copy\n",
      "  Pitt311_final['Date'] = [d.date() for d in Pitt311_final['CREATED_ON']]\n",
      "<ipython-input-20-7eec6fdb62d3>:2: SettingWithCopyWarning: \n",
      "A value is trying to be set on a copy of a slice from a DataFrame.\n",
      "Try using .loc[row_indexer,col_indexer] = value instead\n",
      "\n",
      "See the caveats in the documentation: https://pandas.pydata.org/pandas-docs/stable/user_guide/indexing.html#returning-a-view-versus-a-copy\n",
      "  Pitt311_final['Date'] = pd.to_datetime(Pitt311_final['Date'])\n"
     ]
    }
   ],
   "source": [
    "Pitt311_final['Date'] = [d.date() for d in Pitt311_final['CREATED_ON']]\n",
    "Pitt311_final['Date'] = pd.to_datetime(Pitt311_final['Date'])"
   ]
  },
  {
   "cell_type": "code",
   "execution_count": 21,
   "id": "84c8244e",
   "metadata": {},
   "outputs": [],
   "source": [
    "Pitt311_final = Pitt311_final.drop(columns=['NEIGHBORHOOD', 'TRACT', 'PUBLIC_WORKS_DIVISION', 'PLI_DIVISION','POLICE_ZONE','WARD','X','Y','GEO_ACCURACY'])"
   ]
  },
  {
   "cell_type": "code",
   "execution_count": 23,
   "id": "661c13b8",
   "metadata": {},
   "outputs": [
    {
     "data": {
      "text/html": [
       "<div>\n",
       "<style scoped>\n",
       "    .dataframe tbody tr th:only-of-type {\n",
       "        vertical-align: middle;\n",
       "    }\n",
       "\n",
       "    .dataframe tbody tr th {\n",
       "        vertical-align: top;\n",
       "    }\n",
       "\n",
       "    .dataframe thead th {\n",
       "        text-align: right;\n",
       "    }\n",
       "</style>\n",
       "<table border=\"1\" class=\"dataframe\">\n",
       "  <thead>\n",
       "    <tr style=\"text-align: right;\">\n",
       "      <th></th>\n",
       "      <th>REQUEST_ID</th>\n",
       "      <th>CREATED_ON</th>\n",
       "      <th>REQUEST_TYPE</th>\n",
       "      <th>REQUEST_ORIGIN</th>\n",
       "      <th>STATUS</th>\n",
       "      <th>DEPARTMENT</th>\n",
       "      <th>COUNCIL_DISTRICT</th>\n",
       "      <th>FIRE_ZONE</th>\n",
       "      <th>Date</th>\n",
       "    </tr>\n",
       "  </thead>\n",
       "  <tbody>\n",
       "    <tr>\n",
       "      <th>508225</th>\n",
       "      <td>526002.0</td>\n",
       "      <td>2021-05-22 12:11:00</td>\n",
       "      <td>Excessive Noise/Disturbances</td>\n",
       "      <td>Website</td>\n",
       "      <td>0</td>\n",
       "      <td>Police - Zones 1-6</td>\n",
       "      <td>9.0</td>\n",
       "      <td>3-23</td>\n",
       "      <td>2021-05-22</td>\n",
       "    </tr>\n",
       "    <tr>\n",
       "      <th>508226</th>\n",
       "      <td>526003.0</td>\n",
       "      <td>2021-05-22 12:27:00</td>\n",
       "      <td>Weeds/Debris</td>\n",
       "      <td>Website</td>\n",
       "      <td>0</td>\n",
       "      <td>Permits, Licenses and Inspections</td>\n",
       "      <td>5.0</td>\n",
       "      <td>2-20</td>\n",
       "      <td>2021-05-22</td>\n",
       "    </tr>\n",
       "    <tr>\n",
       "      <th>508234</th>\n",
       "      <td>526011.0</td>\n",
       "      <td>2021-05-22 14:49:00</td>\n",
       "      <td>Potholes</td>\n",
       "      <td>Report2Gov iOS</td>\n",
       "      <td>0</td>\n",
       "      <td>DPW - Street Maintenance</td>\n",
       "      <td>7.0</td>\n",
       "      <td>3-15</td>\n",
       "      <td>2021-05-22</td>\n",
       "    </tr>\n",
       "    <tr>\n",
       "      <th>508239</th>\n",
       "      <td>526016.0</td>\n",
       "      <td>2021-05-22 15:39:00</td>\n",
       "      <td>Replace/Repair a Sign</td>\n",
       "      <td>Website</td>\n",
       "      <td>0</td>\n",
       "      <td>DOMI - TrafficShop</td>\n",
       "      <td>4.0</td>\n",
       "      <td>4-23</td>\n",
       "      <td>2021-05-22</td>\n",
       "    </tr>\n",
       "    <tr>\n",
       "      <th>508242</th>\n",
       "      <td>526019.0</td>\n",
       "      <td>2021-05-22 16:28:00</td>\n",
       "      <td>Illegal Parking</td>\n",
       "      <td>Website</td>\n",
       "      <td>0</td>\n",
       "      <td>Police - Zones 1-6</td>\n",
       "      <td>9.0</td>\n",
       "      <td>3-23</td>\n",
       "      <td>2021-05-22</td>\n",
       "    </tr>\n",
       "  </tbody>\n",
       "</table>\n",
       "</div>"
      ],
      "text/plain": [
       "        REQUEST_ID          CREATED_ON                  REQUEST_TYPE  \\\n",
       "508225    526002.0 2021-05-22 12:11:00  Excessive Noise/Disturbances   \n",
       "508226    526003.0 2021-05-22 12:27:00                  Weeds/Debris   \n",
       "508234    526011.0 2021-05-22 14:49:00                      Potholes   \n",
       "508239    526016.0 2021-05-22 15:39:00         Replace/Repair a Sign   \n",
       "508242    526019.0 2021-05-22 16:28:00               Illegal Parking   \n",
       "\n",
       "        REQUEST_ORIGIN  STATUS                         DEPARTMENT  \\\n",
       "508225         Website       0                 Police - Zones 1-6   \n",
       "508226         Website       0  Permits, Licenses and Inspections   \n",
       "508234  Report2Gov iOS       0           DPW - Street Maintenance   \n",
       "508239         Website       0                 DOMI - TrafficShop   \n",
       "508242         Website       0                 Police - Zones 1-6   \n",
       "\n",
       "        COUNCIL_DISTRICT FIRE_ZONE       Date  \n",
       "508225               9.0      3-23 2021-05-22  \n",
       "508226               5.0      2-20 2021-05-22  \n",
       "508234               7.0      3-15 2021-05-22  \n",
       "508239               4.0      4-23 2021-05-22  \n",
       "508242               9.0      3-23 2021-05-22  "
      ]
     },
     "execution_count": 23,
     "metadata": {},
     "output_type": "execute_result"
    }
   ],
   "source": [
    "Pitt311_final.tail()"
   ]
  },
  {
   "cell_type": "markdown",
   "id": "a4bec416",
   "metadata": {},
   "source": [
    "## Export"
   ]
  },
  {
   "cell_type": "code",
   "execution_count": 24,
   "id": "263a70c7",
   "metadata": {},
   "outputs": [],
   "source": [
    "#Save as a csv\n",
    "Pitt311_final.to_csv('Pitt311_final.csv', index = False, header=True)"
   ]
  }
 ],
 "metadata": {
  "kernelspec": {
   "display_name": "Python 3",
   "language": "python",
   "name": "python3"
  },
  "language_info": {
   "codemirror_mode": {
    "name": "ipython",
    "version": 3
   },
   "file_extension": ".py",
   "mimetype": "text/x-python",
   "name": "python",
   "nbconvert_exporter": "python",
   "pygments_lexer": "ipython3",
   "version": "3.8.8"
  }
 },
 "nbformat": 4,
 "nbformat_minor": 5
}
